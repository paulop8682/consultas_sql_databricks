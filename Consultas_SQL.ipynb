{
 "cells": [
  {
   "cell_type": "code",
   "execution_count": null,
   "metadata": {
    "application/vnd.databricks.v1+cell": {
     "cellMetadata": {
      "byteLimit": 2048000,
      "rowLimit": 10000
     },
     "inputWidgets": {},
     "nuid": "728ce7af-69aa-43c4-aafb-1334d2b8d4d9",
     "showTitle": false,
     "title": ""
    }
   },
   "outputs": [],
   "source": [
    "#selecionar variaveis das credenciais\n",
    "%run ./create_conn"
   ]
  },
  {
   "cell_type": "code",
   "execution_count": null,
   "metadata": {
    "application/vnd.databricks.v1+cell": {
     "cellMetadata": {},
     "inputWidgets": {},
     "nuid": "dfea4e1a-fa20-432e-8b4f-da7655c26508",
     "showTitle": false,
     "title": ""
    }
   },
   "outputs": [
    {
     "name": "stdout",
     "output_type": "stream",
     "text": [
      "Python interpreter will be restarted.\n",
      "Collecting mysql-connector-python\n",
      "  Downloading mysql_connector_python-9.0.0-cp39-cp39-manylinux_2_17_x86_64.whl (19.3 MB)\n",
      "Installing collected packages: mysql-connector-python\n",
      "Successfully installed mysql-connector-python-9.0.0\n",
      "Python interpreter will be restarted.\n"
     ]
    }
   ],
   "source": [
    "#instalacao connector\n",
    "%pip install mysql-connector-python"
   ]
  },
  {
   "cell_type": "code",
   "execution_count": null,
   "metadata": {
    "application/vnd.databricks.v1+cell": {
     "cellMetadata": {},
     "inputWidgets": {},
     "nuid": "e513e198-00e6-4d87-93c6-32628a59b31b",
     "showTitle": false,
     "title": ""
    }
   },
   "outputs": [
    {
     "data": {
      "application/vnd.databricks.v1+bamboolib_hint": "{\"pd.DataFrames\": [], \"version\": \"0.0.1\"}",
      "text/plain": []
     },
     "metadata": {},
     "output_type": "display_data"
    }
   ],
   "source": [
    "# Conectar ao banco de dados MySQL (RDS)\n",
    "import mysql.connector\n",
    "from pyspark.sql import SparkSession\n",
    "import pandas as pd\n",
    "\n",
    "def create_connetion():\n",
    "    conn = mysql.connector.connect(\n",
    "        host=db_host,\n",
    "        user=db_user,\n",
    "        password=db_password,\n",
    "        database=db_database\n",
    "    )\n",
    "\n",
    "    return conn\n"
   ]
  },
  {
   "cell_type": "code",
   "execution_count": null,
   "metadata": {
    "application/vnd.databricks.v1+cell": {
     "cellMetadata": {
      "byteLimit": 2048000,
      "rowLimit": 10000
     },
     "inputWidgets": {},
     "nuid": "d54745b3-f8fc-48fb-a6e2-0e20a6ecd24f",
     "showTitle": false,
     "title": ""
    }
   },
   "outputs": [],
   "source": [
    "\n",
    "# Conectar ao banco de dados MySQL (RDS)\n",
    "conn = create_connetion()\n",
    "\n",
    "def select_table(query):\n",
    "    cursor = conn.cursor()\n",
    "    cursor.execute(query)\n",
    "    # Obter os nomes das colunas\n",
    "    col_names = [desc[0] for desc in cursor.description]\n",
    "    # Pegar os resultados da consulta\n",
    "    result = cursor.fetchall()\n",
    "    # Criar um SparkSession\n",
    "    spark = SparkSession.builder.getOrCreate()\n",
    "    # Transformar os resultados em RDD\n",
    "    rdd = spark.sparkContext.parallelize(result)\n",
    "    # Converter o RDD em um Spark DataFrame\n",
    "    df = spark.createDataFrame(rdd, schema=col_names)\n",
    "    cursor.close()\n",
    "    return df\n"
   ]
  },
  {
   "cell_type": "markdown",
   "metadata": {
    "application/vnd.databricks.v1+cell": {
     "cellMetadata": {},
     "inputWidgets": {},
     "nuid": "564ee0b9-1c02-4a63-87d2-6ef7dc50a14a",
     "showTitle": false,
     "title": ""
    }
   },
   "source": [
    "# Fase 1"
   ]
  },
  {
   "cell_type": "markdown",
   "metadata": {
    "application/vnd.databricks.v1+cell": {
     "cellMetadata": {},
     "inputWidgets": {},
     "nuid": "02e56623-8e5d-4fa6-80c6-88d880c628d8",
     "showTitle": false,
     "title": ""
    }
   },
   "source": [
    "### 1. Top 10 Endereços (carteiras) com maior volume de transações enviadas"
   ]
  },
  {
   "cell_type": "code",
   "execution_count": null,
   "metadata": {
    "application/vnd.databricks.v1+cell": {
     "cellMetadata": {
      "byteLimit": 2048000,
      "rowLimit": 10000
     },
     "inputWidgets": {},
     "nuid": "d7b7e58b-b478-4d53-a201-933d963e3e86",
     "showTitle": false,
     "title": ""
    }
   },
   "outputs": [
    {
     "data": {
      "text/html": [
       "<style scoped>\n",
       "  .table-result-container {\n",
       "    max-height: 300px;\n",
       "    overflow: auto;\n",
       "  }\n",
       "  table, th, td {\n",
       "    border: 1px solid black;\n",
       "    border-collapse: collapse;\n",
       "  }\n",
       "  th, td {\n",
       "    padding: 5px;\n",
       "  }\n",
       "  th {\n",
       "    text-align: left;\n",
       "  }\n",
       "</style><div class='table-result-container'><table class='table-result'><thead style='background-color: white'><tr><th>COUNT</th><th>ADDRESS_ORIGIN</th><th>TOTAL_SENT</th></tr></thead><tbody><tr><td>90</td><td>A-99</td><td>4.7166372E7</td></tr><tr><td>85</td><td>A-83</td><td>4.7298518E7</td></tr><tr><td>85</td><td>A-72</td><td>4.0498806E7</td></tr><tr><td>81</td><td>A-78</td><td>3.6950241E7</td></tr><tr><td>81</td><td>A-25</td><td>4.5302857E7</td></tr><tr><td>80</td><td>A-48</td><td>3.5950322E7</td></tr><tr><td>79</td><td>A-62</td><td>3.1364981E7</td></tr><tr><td>78</td><td>A-32</td><td>3.1185309E7</td></tr><tr><td>77</td><td>A-54</td><td>3.4919296E7</td></tr><tr><td>76</td><td>A-50</td><td>3.5920647E7</td></tr></tbody></table></div>"
      ]
     },
     "metadata": {
      "application/vnd.databricks.v1+output": {
       "addedWidgets": {},
       "aggData": [],
       "aggError": "",
       "aggOverflow": false,
       "aggSchema": [],
       "aggSeriesLimitReached": false,
       "aggType": "",
       "arguments": {},
       "columnCustomDisplayInfos": {},
       "data": [
        [
         90,
         "A-99",
         47166372
        ],
        [
         85,
         "A-83",
         47298518
        ],
        [
         85,
         "A-72",
         40498806
        ],
        [
         81,
         "A-78",
         36950241
        ],
        [
         81,
         "A-25",
         45302857
        ],
        [
         80,
         "A-48",
         35950322
        ],
        [
         79,
         "A-62",
         31364981
        ],
        [
         78,
         "A-32",
         31185309
        ],
        [
         77,
         "A-54",
         34919296
        ],
        [
         76,
         "A-50",
         35920647
        ]
       ],
       "datasetInfos": [],
       "dbfsResultPath": null,
       "isJsonSchema": true,
       "metadata": {},
       "overflow": false,
       "plotOptions": {
        "customPlotOptions": {},
        "displayType": "table",
        "pivotAggregation": null,
        "pivotColumns": null,
        "xColumns": null,
        "yColumns": null
       },
       "removedWidgets": [],
       "schema": [
        {
         "metadata": "{}",
         "name": "COUNT",
         "type": "\"long\""
        },
        {
         "metadata": "{}",
         "name": "ADDRESS_ORIGIN",
         "type": "\"string\""
        },
        {
         "metadata": "{}",
         "name": "TOTAL_SENT",
         "type": "\"double\""
        }
       ],
       "type": "table"
      }
     },
     "output_type": "display_data"
    },
    {
     "data": {
      "text/plain": [
       "Databricks visualization. Run in Databricks to view."
      ]
     },
     "metadata": {
      "application/vnd.databricks.v1.subcommand+json": {
       "baseErrorDetails": null,
       "bindings": {},
       "collapsed": false,
       "command": "%python\n__backend_agg_display_orig = display\n__backend_agg_dfs = []\ndef __backend_agg_display_new(df):\n    __backend_agg_df_modules = [\"pandas.core.frame\", \"databricks.koalas.frame\", \"pyspark.sql.dataframe\", \"pyspark.pandas.frame\", \"pyspark.sql.connect.dataframe\"]\n    if (type(df).__module__ in __backend_agg_df_modules and type(df).__name__ == 'DataFrame') or isinstance(df, list):\n        __backend_agg_dfs.append(df)\n\ndisplay = __backend_agg_display_new\n\ndef __backend_agg_user_code_fn():\n    import base64\n    exec(base64.standard_b64decode(\"ZGlzcGxheShzZWxlY3RfdGFibGUoJycnCiAgICBTRUxFQ1QgCiAgICAgICAgICAgIENPVU5UKCopIEFTIENPVU5ULAogICAgICAgICAgICBBZGRyZXNzT3JpZ2luIEFTIEFERFJFU1NfT1JJR0lOLCAKICAgICAgICAgICAgU1VNKENBU1QoUkVQTEFDRShUb3RhbFNlbnQsICcsJywgJycpIEFTIERPVUJMRSkpIEFTIFRPVEFMX1NFTlQKICAgIEZST00gZGJfaGlyaW5nX3Rlc3QucmF3X3RyYW5zYWN0aW9uc190YWJsZQogICAgR1JPVVAgQlkgQUREUkVTU19PUklHSU4KICAgIE9SREVSIEJZIENPVU5UIERFU0MKICAgIExJTUlUIDEwCicnJykpCg==\").decode())\n\ntry:\n    # run user code\n    __backend_agg_user_code_fn()\n\n    #reset display function\n    display = __backend_agg_display_orig\n\n    if len(__backend_agg_dfs) > 0:\n        # create a temp view\n        if type(__backend_agg_dfs[0]).__module__ == \"databricks.koalas.frame\":\n            # koalas dataframe\n            __backend_agg_dfs[0].to_spark().createOrReplaceTempView(\"DatabricksViewe8fc251\")\n        elif type(__backend_agg_dfs[0]).__module__ == \"pandas.core.frame\" or isinstance(__backend_agg_dfs[0], list):\n            # pandas dataframe\n            spark.createDataFrame(__backend_agg_dfs[0]).createOrReplaceTempView(\"DatabricksViewe8fc251\")\n        else:\n            __backend_agg_dfs[0].createOrReplaceTempView(\"DatabricksViewe8fc251\")\n        #run backend agg\n        display(spark.sql(\"\"\"WITH q AS (select * from DatabricksViewe8fc251) SELECT `ADDRESS_ORIGIN`,SUM(`COUNT`) `column_2fd2c3a934` FROM q GROUP BY `ADDRESS_ORIGIN`\"\"\"))\n    else:\n        displayHTML(\"dataframe no longer exists. If you're using dataframe.display(), use display(dataframe) instead.\")\n\n\nfinally:\n    spark.sql(\"drop view if exists DatabricksViewe8fc251\")\n    display = __backend_agg_display_orig\n    del __backend_agg_display_new\n    del __backend_agg_display_orig\n    del __backend_agg_dfs\n    del __backend_agg_user_code_fn\n\n",
       "commandTitle": "Visualization 1",
       "commandType": "auto",
       "commandVersion": 0,
       "commentThread": [],
       "commentsVisible": false,
       "contentSha256Hex": null,
       "customPlotOptions": {
        "redashChart": [
         {
          "key": "type",
          "value": "CHART"
         },
         {
          "key": "options",
          "value": {
           "alignYAxesAtZero": true,
           "coefficient": 1,
           "columnConfigurationMap": {
            "x": {
             "column": "ADDRESS_ORIGIN",
             "id": "column_2fd2c3a937"
            },
            "y": [
             {
              "column": "COUNT",
              "id": "column_2fd2c3a934",
              "transform": "SUM"
             }
            ]
           },
           "dateTimeFormat": "DD/MM/YYYY HH:mm",
           "direction": {
            "type": "counterclockwise"
           },
           "error_y": {
            "type": "data",
            "visible": true
           },
           "globalSeriesType": "column",
           "isAggregationOn": true,
           "legend": {
            "traceorder": "reversed"
           },
           "missingValuesAsZero": true,
           "numberFormat": "0,0.[00000]",
           "percentFormat": "0[.]00%",
           "series": {
            "error_y": {
             "type": "data",
             "visible": true
            },
            "stacking": null
           },
           "seriesOptions": {
            "column_2fd2c3a934": {
             "name": "TOTAL_SENT",
             "type": "column",
             "yAxis": 0
            }
           },
           "showDataLabels": false,
           "sizemode": "diameter",
           "sortX": false,
           "sortY": true,
           "swappedAxes": false,
           "textFormat": "",
           "useAggregationsUi": true,
           "valuesOptions": {},
           "version": 2,
           "xAxis": {
            "labels": {
             "enabled": true
            },
            "type": "-"
           },
           "yAxis": [
            {
             "type": "-"
            },
            {
             "opposite": true,
             "type": "-"
            }
           ]
          }
         }
        ]
       },
       "datasetPreviewNameToCmdIdMap": {},
       "diffDeletes": [],
       "diffInserts": [],
       "displayType": "redashChart",
       "error": null,
       "errorDetails": null,
       "errorSummary": null,
       "errorTraceType": null,
       "finishTime": 0,
       "globalVars": {},
       "guid": "",
       "height": "auto",
       "hideCommandCode": false,
       "hideCommandResult": false,
       "iPythonMetadata": null,
       "inputWidgets": {},
       "isLockedInExamMode": false,
       "latestUser": "a user",
       "latestUserId": null,
       "listResultMetadata": null,
       "metadata": {},
       "nuid": "1f692d06-530f-40d4-9fc0-00a24a008ae7",
       "origId": 0,
       "parentHierarchy": [],
       "pivotAggregation": null,
       "pivotColumns": null,
       "position": 3.375,
       "resultDbfsErrorMessage": null,
       "resultDbfsStatus": "INLINED_IN_TREE",
       "results": null,
       "showCommandTitle": false,
       "startTime": 0,
       "state": "input",
       "streamStates": {},
       "subcommandOptions": {
        "queryPlan": {
         "groups": [
          {
           "column": "ADDRESS_ORIGIN",
           "type": "column"
          }
         ],
         "selects": [
          {
           "column": "ADDRESS_ORIGIN",
           "type": "column"
          },
          {
           "alias": "column_2fd2c3a934",
           "args": [
            {
             "column": "COUNT",
             "type": "column"
            }
           ],
           "function": "SUM",
           "type": "function"
          }
         ]
        }
       },
       "submitTime": 0,
       "subtype": "tableResultSubCmd.visualization",
       "tableResultIndex": 0,
       "tableResultSettingsMap": null,
       "useConsistentColors": false,
       "version": "CommandV1",
       "width": "auto",
       "workflows": [],
       "xColumns": null,
       "yColumns": null
      }
     },
     "output_type": "display_data"
    }
   ],
   "source": [
    "display(select_table('''\n",
    "SELECT \n",
    "    COUNT(*) AS COUNT,\n",
    "    AddressOrigin AS ADDRESS_ORIGIN, \n",
    "    SUM(CAST(REPLACE(TotalSent, ',', '') AS DOUBLE)) AS TOTAL_SENT\n",
    "FROM \n",
    "    db_hiring_test.raw_transactions_table\n",
    "GROUP BY \n",
    "    ADDRESS_ORIGIN\n",
    "ORDER BY \n",
    "    COUNT DESC\n",
    "LIMIT \n",
    "    10\n",
    "'''))\n"
   ]
  },
  {
   "cell_type": "markdown",
   "metadata": {
    "application/vnd.databricks.v1+cell": {
     "cellMetadata": {},
     "inputWidgets": {},
     "nuid": "b0c62d6c-fc82-4ed6-bec0-f2ccc4592e3b",
     "showTitle": false,
     "title": ""
    }
   },
   "source": [
    "### 2. Top 10 dias do mês com maiores volumes de transações realizadas"
   ]
  },
  {
   "cell_type": "code",
   "execution_count": null,
   "metadata": {
    "application/vnd.databricks.v1+cell": {
     "cellMetadata": {
      "byteLimit": 2048000,
      "rowLimit": 10000
     },
     "inputWidgets": {},
     "nuid": "89ff68ca-ae5a-428d-ba16-01d8726d2b8a",
     "showTitle": false,
     "title": ""
    }
   },
   "outputs": [
    {
     "data": {
      "text/html": [
       "<style scoped>\n",
       "  .table-result-container {\n",
       "    max-height: 300px;\n",
       "    overflow: auto;\n",
       "  }\n",
       "  table, th, td {\n",
       "    border: 1px solid black;\n",
       "    border-collapse: collapse;\n",
       "  }\n",
       "  th, td {\n",
       "    padding: 5px;\n",
       "  }\n",
       "  th {\n",
       "    text-align: left;\n",
       "  }\n",
       "</style><div class='table-result-container'><table class='table-result'><thead style='background-color: white'><tr><th>COUNT</th><th>DAY_OF_MONTH</th><th>TOTAL_SENT</th></tr></thead><tbody><tr><td>286</td><td>7</td><td>1.5475931E8</td></tr><tr><td>279</td><td>2</td><td>1.28156372E8</td></tr><tr><td>274</td><td>15</td><td>1.50092292E8</td></tr><tr><td>262</td><td>27</td><td>1.29371428E8</td></tr><tr><td>258</td><td>12</td><td>1.35455458E8</td></tr><tr><td>236</td><td>1</td><td>1.14533986E8</td></tr><tr><td>229</td><td>14</td><td>1.15944578E8</td></tr><tr><td>226</td><td>13</td><td>1.21662984E8</td></tr><tr><td>226</td><td>20</td><td>1.06683771E8</td></tr><tr><td>220</td><td>19</td><td>1.21721712E8</td></tr></tbody></table></div>"
      ]
     },
     "metadata": {
      "application/vnd.databricks.v1+output": {
       "addedWidgets": {},
       "aggData": [],
       "aggError": "",
       "aggOverflow": false,
       "aggSchema": [],
       "aggSeriesLimitReached": false,
       "aggType": "",
       "arguments": {},
       "columnCustomDisplayInfos": {},
       "data": [
        [
         286,
         7,
         154759310
        ],
        [
         279,
         2,
         128156372
        ],
        [
         274,
         15,
         150092292
        ],
        [
         262,
         27,
         129371428
        ],
        [
         258,
         12,
         135455458
        ],
        [
         236,
         1,
         114533986
        ],
        [
         229,
         14,
         115944578
        ],
        [
         226,
         13,
         121662984
        ],
        [
         226,
         20,
         106683771
        ],
        [
         220,
         19,
         121721712
        ]
       ],
       "datasetInfos": [],
       "dbfsResultPath": null,
       "isJsonSchema": true,
       "metadata": {},
       "overflow": false,
       "plotOptions": {
        "customPlotOptions": {},
        "displayType": "table",
        "pivotAggregation": null,
        "pivotColumns": null,
        "xColumns": null,
        "yColumns": null
       },
       "removedWidgets": [],
       "schema": [
        {
         "metadata": "{}",
         "name": "COUNT",
         "type": "\"long\""
        },
        {
         "metadata": "{}",
         "name": "DAY_OF_MONTH",
         "type": "\"long\""
        },
        {
         "metadata": "{}",
         "name": "TOTAL_SENT",
         "type": "\"double\""
        }
       ],
       "type": "table"
      }
     },
     "output_type": "display_data"
    },
    {
     "data": {
      "text/plain": [
       "Databricks visualization. Run in Databricks to view."
      ]
     },
     "metadata": {
      "application/vnd.databricks.v1.subcommand+json": {
       "baseErrorDetails": null,
       "bindings": {},
       "collapsed": false,
       "command": "%python\n__backend_agg_display_orig = display\n__backend_agg_dfs = []\ndef __backend_agg_display_new(df):\n    __backend_agg_df_modules = [\"pandas.core.frame\", \"databricks.koalas.frame\", \"pyspark.sql.dataframe\", \"pyspark.pandas.frame\", \"pyspark.sql.connect.dataframe\"]\n    if (type(df).__module__ in __backend_agg_df_modules and type(df).__name__ == 'DataFrame') or isinstance(df, list):\n        __backend_agg_dfs.append(df)\n\ndisplay = __backend_agg_display_new\n\ndef __backend_agg_user_code_fn():\n    import base64\n    exec(base64.standard_b64decode(\"ZGlzcGxheShzZWxlY3RfdGFibGUoJycnCiAgICAgICAgICAgICAgICAgICAgIFNFTEVDVCAKICAgICAgICAgICAgICAgICAgICAgICAgICAgIENPVU5UKCopIEFTIENPVU5ULAogICAgICAgICAgICAgICAgICAgICAgICAgICAgREFZKFNUUl9UT19EQVRFKFNlbnREYXRlLCclWS0lbS0lZCAlSDolaTolcycpKSAgQVMgREFZX09GX01PTlRILAogICAgICAgICAgICAgICAgICAgICAgICAgICAgU1VNKENBU1QoUkVQTEFDRShUb3RhbFNlbnQsICcsJywgJycpIEFTIERPVUJMRSkpIEFTIFRPVEFMX1NFTlQKICAgICAgICAgICAgICAgICAgICAgRlJPTSAKICAgICAgICAgICAgICAgICAgICAgICAgICAgIGRiX2hpcmluZ190ZXN0LnJhd190cmFuc2FjdGlvbnNfdGFibGUKICAgICAgICAgICAgICAgICAgICBXSEVSRSAKICAgICAgICAgICAgICAgICAgICAgICAgICAgIFN0YXR1cyA9ICdDb25maXJtZWQnCiAgICAgICAgICAgICAgICAgICAgIEdST1VQIEJZIAogICAgICAgICAgICAgICAgICAgICAgICAgICAgREFZX09GX01PTlRICiAgICAgICAgICAgICAgICAgICAgIE9SREVSIEJZIAogICAgICAgICAgICAgICAgICAgICAgICAgICAgQ09VTlQgREVTQwogICAgICAgICAgICAgICAgICAgIExJTUlUIAogICAgICAgICAgICAgICAgICAgICAgICAgICAgMTAKICAgICAgICAgICAgICAgICAgICAgJycnKSk=\").decode())\n\ntry:\n    # run user code\n    __backend_agg_user_code_fn()\n\n    #reset display function\n    display = __backend_agg_display_orig\n\n    if len(__backend_agg_dfs) > 0:\n        # create a temp view\n        if type(__backend_agg_dfs[0]).__module__ == \"databricks.koalas.frame\":\n            # koalas dataframe\n            __backend_agg_dfs[0].to_spark().createOrReplaceTempView(\"DatabricksView3fbdd2a\")\n        elif type(__backend_agg_dfs[0]).__module__ == \"pandas.core.frame\" or isinstance(__backend_agg_dfs[0], list):\n            # pandas dataframe\n            spark.createDataFrame(__backend_agg_dfs[0]).createOrReplaceTempView(\"DatabricksView3fbdd2a\")\n        else:\n            __backend_agg_dfs[0].createOrReplaceTempView(\"DatabricksView3fbdd2a\")\n        #run backend agg\n        display(spark.sql(\"\"\"WITH q AS (select * from DatabricksView3fbdd2a) SELECT `DAY_OF_MONTH`,SUM(`COUNT`) `column_2fd2c3a931` FROM q GROUP BY `DAY_OF_MONTH`\"\"\"))\n    else:\n        displayHTML(\"dataframe no longer exists. If you're using dataframe.display(), use display(dataframe) instead.\")\n\n\nfinally:\n    spark.sql(\"drop view if exists DatabricksView3fbdd2a\")\n    display = __backend_agg_display_orig\n    del __backend_agg_display_new\n    del __backend_agg_display_orig\n    del __backend_agg_dfs\n    del __backend_agg_user_code_fn\n\n",
       "commandTitle": "Visualization 1",
       "commandType": "auto",
       "commandVersion": 0,
       "commentThread": [],
       "commentsVisible": false,
       "contentSha256Hex": null,
       "customPlotOptions": {
        "redashChart": [
         {
          "key": "type",
          "value": "CHART"
         },
         {
          "key": "options",
          "value": {
           "alignYAxesAtZero": true,
           "coefficient": 1,
           "columnConfigurationMap": {
            "x": {
             "column": "DAY_OF_MONTH",
             "id": "column_2fd2c3a929"
            },
            "y": [
             {
              "column": "COUNT",
              "id": "column_2fd2c3a931",
              "transform": "SUM"
             }
            ]
           },
           "dateTimeFormat": "DD/MM/YYYY HH:mm",
           "direction": {
            "type": "counterclockwise"
           },
           "error_y": {
            "type": "data",
            "visible": true
           },
           "globalSeriesType": "column",
           "isAggregationOn": true,
           "legend": {
            "traceorder": "normal"
           },
           "missingValuesAsZero": true,
           "numberFormat": "0,0.[00000]",
           "percentFormat": "0[.]00%",
           "series": {
            "error_y": {
             "type": "data",
             "visible": true
            },
            "stacking": null
           },
           "seriesOptions": {
            "column_2fd2c3a931": {
             "type": "column",
             "yAxis": 0
            }
           },
           "showDataLabels": true,
           "sizemode": "diameter",
           "sortX": true,
           "sortY": true,
           "swappedAxes": false,
           "textFormat": "",
           "useAggregationsUi": true,
           "valuesOptions": {},
           "version": 2,
           "xAxis": {
            "labels": {
             "enabled": true
            },
            "type": "-"
           },
           "yAxis": [
            {
             "type": "-"
            },
            {
             "opposite": true,
             "type": "-"
            }
           ]
          }
         }
        ]
       },
       "datasetPreviewNameToCmdIdMap": {},
       "diffDeletes": [],
       "diffInserts": [],
       "displayType": "redashChart",
       "error": null,
       "errorDetails": null,
       "errorSummary": null,
       "errorTraceType": null,
       "finishTime": 0,
       "globalVars": {},
       "guid": "",
       "height": "auto",
       "hideCommandCode": false,
       "hideCommandResult": false,
       "iPythonMetadata": null,
       "inputWidgets": {},
       "isLockedInExamMode": false,
       "latestUser": "a user",
       "latestUserId": null,
       "listResultMetadata": null,
       "metadata": {},
       "nuid": "83b4b389-a61a-451d-b733-1bed823b32a6",
       "origId": 0,
       "parentHierarchy": [],
       "pivotAggregation": null,
       "pivotColumns": null,
       "position": 3.8125,
       "resultDbfsErrorMessage": null,
       "resultDbfsStatus": "INLINED_IN_TREE",
       "results": null,
       "showCommandTitle": false,
       "startTime": 0,
       "state": "input",
       "streamStates": {},
       "subcommandOptions": {
        "queryPlan": {
         "groups": [
          {
           "column": "DAY_OF_MONTH",
           "type": "column"
          }
         ],
         "selects": [
          {
           "column": "DAY_OF_MONTH",
           "type": "column"
          },
          {
           "alias": "column_2fd2c3a931",
           "args": [
            {
             "column": "COUNT",
             "type": "column"
            }
           ],
           "function": "SUM",
           "type": "function"
          }
         ]
        }
       },
       "submitTime": 0,
       "subtype": "tableResultSubCmd.visualization",
       "tableResultIndex": 0,
       "tableResultSettingsMap": null,
       "useConsistentColors": false,
       "version": "CommandV1",
       "width": "auto",
       "workflows": [],
       "xColumns": null,
       "yColumns": null
      }
     },
     "output_type": "display_data"
    }
   ],
   "source": [
    "display(select_table('''\n",
    "SELECT \n",
    "       COUNT(*) AS COUNT,\n",
    "       DAY(STR_TO_DATE(SentDate,'%Y-%m-%d %H:%i:%s'))  AS DAY_OF_MONTH,\n",
    "       SUM(CAST(REPLACE(TotalSent, ',', '') AS DOUBLE)) AS TOTAL_SENT\n",
    "FROM \n",
    "       db_hiring_test.raw_transactions_table\n",
    "WHERE \n",
    "       Status = 'Confirmed'\n",
    "GROUP BY \n",
    "       DAY_OF_MONTH\n",
    "ORDER BY \n",
    "       COUNT DESC\n",
    "LIMIT \n",
    "       10\n",
    "'''))"
   ]
  },
  {
   "cell_type": "markdown",
   "metadata": {
    "application/vnd.databricks.v1+cell": {
     "cellMetadata": {
      "byteLimit": 2048000,
      "rowLimit": 10000
     },
     "inputWidgets": {},
     "nuid": "65a7c690-29c1-4670-9a91-c225b1ccc96b",
     "showTitle": false,
     "title": ""
    }
   },
   "source": [
    "### 3. Dias da semana com maiores volumes de transações realizadas"
   ]
  },
  {
   "cell_type": "code",
   "execution_count": null,
   "metadata": {
    "application/vnd.databricks.v1+cell": {
     "cellMetadata": {
      "byteLimit": 2048000,
      "rowLimit": 10000
     },
     "inputWidgets": {},
     "nuid": "287dadaf-18dd-45cf-a4c7-9bb9891ffece",
     "showTitle": false,
     "title": ""
    }
   },
   "outputs": [
    {
     "data": {
      "text/html": [
       "<style scoped>\n",
       "  .table-result-container {\n",
       "    max-height: 300px;\n",
       "    overflow: auto;\n",
       "  }\n",
       "  table, th, td {\n",
       "    border: 1px solid black;\n",
       "    border-collapse: collapse;\n",
       "  }\n",
       "  th, td {\n",
       "    padding: 5px;\n",
       "  }\n",
       "  th {\n",
       "    text-align: left;\n",
       "  }\n",
       "</style><div class='table-result-container'><table class='table-result'><thead style='background-color: white'><tr><th>COUNT</th><th>DAY_OF_MONTH</th></tr></thead><tbody><tr><td>970</td><td>Saturday</td></tr><tr><td>927</td><td>Friday</td></tr><tr><td>921</td><td>Wednesday</td></tr><tr><td>898</td><td>Thursday</td></tr><tr><td>865</td><td>Sunday</td></tr><tr><td>840</td><td>Tuesday</td></tr><tr><td>694</td><td>Monday</td></tr></tbody></table></div>"
      ]
     },
     "metadata": {
      "application/vnd.databricks.v1+output": {
       "addedWidgets": {},
       "aggData": [],
       "aggError": "",
       "aggOverflow": false,
       "aggSchema": [],
       "aggSeriesLimitReached": false,
       "aggType": "",
       "arguments": {},
       "columnCustomDisplayInfos": {},
       "data": [
        [
         970,
         "Saturday"
        ],
        [
         927,
         "Friday"
        ],
        [
         921,
         "Wednesday"
        ],
        [
         898,
         "Thursday"
        ],
        [
         865,
         "Sunday"
        ],
        [
         840,
         "Tuesday"
        ],
        [
         694,
         "Monday"
        ]
       ],
       "datasetInfos": [],
       "dbfsResultPath": null,
       "isJsonSchema": true,
       "metadata": {},
       "overflow": false,
       "plotOptions": {
        "customPlotOptions": {},
        "displayType": "table",
        "pivotAggregation": null,
        "pivotColumns": null,
        "xColumns": null,
        "yColumns": null
       },
       "removedWidgets": [],
       "schema": [
        {
         "metadata": "{}",
         "name": "COUNT",
         "type": "\"long\""
        },
        {
         "metadata": "{}",
         "name": "DAY_OF_MONTH",
         "type": "\"string\""
        }
       ],
       "type": "table"
      }
     },
     "output_type": "display_data"
    },
    {
     "data": {
      "text/plain": [
       "Databricks visualization. Run in Databricks to view."
      ]
     },
     "metadata": {
      "application/vnd.databricks.v1.subcommand+json": {
       "baseErrorDetails": null,
       "bindings": {},
       "collapsed": false,
       "command": "%python\n__backend_agg_display_orig = display\n__backend_agg_dfs = []\ndef __backend_agg_display_new(df):\n    __backend_agg_df_modules = [\"pandas.core.frame\", \"databricks.koalas.frame\", \"pyspark.sql.dataframe\", \"pyspark.pandas.frame\", \"pyspark.sql.connect.dataframe\"]\n    if (type(df).__module__ in __backend_agg_df_modules and type(df).__name__ == 'DataFrame') or isinstance(df, list):\n        __backend_agg_dfs.append(df)\n\ndisplay = __backend_agg_display_new\n\ndef __backend_agg_user_code_fn():\n    import base64\n    exec(base64.standard_b64decode(\"ZGlzcGxheShzZWxlY3RfdGFibGUoJycnCiAgICAgICAgICAgICAgICAgICAgIFNFTEVDVCAKICAgICAgICAgICAgICAgICAgICAgICAgICAgIENPVU5UKCopIEFTIENPVU5ULAogICAgICAgICAgICAgICAgICAgICAgICAgICAgREFZTkFNRShTVFJfVE9fREFURShTZW50RGF0ZSwnJVktJW0tJWQgJUg6JWk6JXMnKSkgIEFTIERBWV9PRl9NT05USAogICAgICAgICAgICAgICAgICAgICBGUk9NIAogICAgICAgICAgICAgICAgICAgICAgICAgICAgZGJfaGlyaW5nX3Rlc3QucmF3X3RyYW5zYWN0aW9uc190YWJsZQogICAgICAgICAgICAgICAgICAgIFdIRVJFIAogICAgICAgICAgICAgICAgICAgICAgICAgICAgU3RhdHVzID0gJ0NvbmZpcm1lZCcKICAgICAgICAgICAgICAgICAgICAgR1JPVVAgQlkgCiAgICAgICAgICAgICAgICAgICAgICAgICAgICBEQVlfT0ZfTU9OVEgKICAgICAgICAgICAgICAgICAgICAgT1JERVIgQlkgCiAgICAgICAgICAgICAgICAgICAgICAgICAgICBDT1VOVCBERVNDCiAgICAgICAgICAgICAgICAgICAgCiAgICAgICAgICAgICAgICAgICAgICcnJykp\").decode())\n\ntry:\n    # run user code\n    __backend_agg_user_code_fn()\n\n    #reset display function\n    display = __backend_agg_display_orig\n\n    if len(__backend_agg_dfs) > 0:\n        # create a temp view\n        if type(__backend_agg_dfs[0]).__module__ == \"databricks.koalas.frame\":\n            # koalas dataframe\n            __backend_agg_dfs[0].to_spark().createOrReplaceTempView(\"DatabricksViewa9886f4\")\n        elif type(__backend_agg_dfs[0]).__module__ == \"pandas.core.frame\" or isinstance(__backend_agg_dfs[0], list):\n            # pandas dataframe\n            spark.createDataFrame(__backend_agg_dfs[0]).createOrReplaceTempView(\"DatabricksViewa9886f4\")\n        else:\n            __backend_agg_dfs[0].createOrReplaceTempView(\"DatabricksViewa9886f4\")\n        #run backend agg\n        display(spark.sql(\"\"\"WITH q AS (select * from DatabricksViewa9886f4) SELECT `DAY_OF_MONTH`,SUM(`COUNT`) `column_2fd2c3a927` FROM q GROUP BY `DAY_OF_MONTH`\"\"\"))\n    else:\n        displayHTML(\"dataframe no longer exists. If you're using dataframe.display(), use display(dataframe) instead.\")\n\n\nfinally:\n    spark.sql(\"drop view if exists DatabricksViewa9886f4\")\n    display = __backend_agg_display_orig\n    del __backend_agg_display_new\n    del __backend_agg_display_orig\n    del __backend_agg_dfs\n    del __backend_agg_user_code_fn\n\n",
       "commandTitle": "Visualization 1",
       "commandType": "auto",
       "commandVersion": 0,
       "commentThread": [],
       "commentsVisible": false,
       "contentSha256Hex": null,
       "customPlotOptions": {
        "redashChart": [
         {
          "key": "type",
          "value": "CHART"
         },
         {
          "key": "options",
          "value": {
           "alignYAxesAtZero": true,
           "coefficient": 1,
           "columnConfigurationMap": {
            "x": {
             "column": "DAY_OF_MONTH",
             "id": "column_2fd2c3a926"
            },
            "y": [
             {
              "column": "COUNT",
              "id": "column_2fd2c3a927",
              "transform": "SUM"
             }
            ]
           },
           "dateTimeFormat": "DD/MM/YYYY HH:mm",
           "direction": {
            "type": "counterclockwise"
           },
           "error_y": {
            "type": "data",
            "visible": true
           },
           "globalSeriesType": "column",
           "isAggregationOn": true,
           "legend": {
            "traceorder": "normal"
           },
           "missingValuesAsZero": true,
           "numberFormat": "0,0.[00000]",
           "percentFormat": "0[.]00%",
           "series": {
            "error_y": {
             "type": "data",
             "visible": true
            },
            "stacking": null
           },
           "seriesOptions": {
            "column_2fd2c3a927": {
             "name": "COUNT",
             "yAxis": 0
            }
           },
           "showDataLabels": false,
           "sizemode": "diameter",
           "sortX": false,
           "sortY": true,
           "swappedAxes": false,
           "textFormat": "",
           "useAggregationsUi": true,
           "valuesOptions": {},
           "version": 2,
           "xAxis": {
            "labels": {
             "enabled": true
            },
            "type": "-"
           },
           "yAxis": [
            {
             "type": "-"
            },
            {
             "opposite": true,
             "type": "-"
            }
           ]
          }
         }
        ]
       },
       "datasetPreviewNameToCmdIdMap": {},
       "diffDeletes": [],
       "diffInserts": [],
       "displayType": "redashChart",
       "error": null,
       "errorDetails": null,
       "errorSummary": null,
       "errorTraceType": null,
       "finishTime": 0,
       "globalVars": {},
       "guid": "",
       "height": "auto",
       "hideCommandCode": false,
       "hideCommandResult": false,
       "iPythonMetadata": null,
       "inputWidgets": {},
       "isLockedInExamMode": false,
       "latestUser": "a user",
       "latestUserId": null,
       "listResultMetadata": null,
       "metadata": {},
       "nuid": "fc02c8c5-dac1-45cd-bc56-94f6b547a09d",
       "origId": 0,
       "parentHierarchy": [],
       "pivotAggregation": null,
       "pivotColumns": null,
       "position": 3.859375,
       "resultDbfsErrorMessage": null,
       "resultDbfsStatus": "INLINED_IN_TREE",
       "results": null,
       "showCommandTitle": false,
       "startTime": 0,
       "state": "input",
       "streamStates": {},
       "subcommandOptions": {
        "queryPlan": {
         "groups": [
          {
           "column": "DAY_OF_MONTH",
           "type": "column"
          }
         ],
         "selects": [
          {
           "column": "DAY_OF_MONTH",
           "type": "column"
          },
          {
           "alias": "column_2fd2c3a927",
           "args": [
            {
             "column": "COUNT",
             "type": "column"
            }
           ],
           "function": "SUM",
           "type": "function"
          }
         ]
        }
       },
       "submitTime": 0,
       "subtype": "tableResultSubCmd.visualization",
       "tableResultIndex": 0,
       "tableResultSettingsMap": null,
       "useConsistentColors": false,
       "version": "CommandV1",
       "width": "auto",
       "workflows": [],
       "xColumns": null,
       "yColumns": null
      }
     },
     "output_type": "display_data"
    }
   ],
   "source": [
    "display(select_table('''\n",
    "SELECT \n",
    "       COUNT(*) AS COUNT,\n",
    "       DAYNAME(STR_TO_DATE(SentDate,'%Y-%m-%d %H:%i:%s'))  AS DAY_OF_MONTH\n",
    "FROM \n",
    "       db_hiring_test.raw_transactions_table\n",
    "WHERE \n",
    "       Status = 'Confirmed'\n",
    "GROUP BY \n",
    "       DAY_OF_MONTH\n",
    "ORDER BY \n",
    "       COUNT DESC\n",
    "'''))"
   ]
  },
  {
   "cell_type": "markdown",
   "metadata": {
    "application/vnd.databricks.v1+cell": {
     "cellMetadata": {},
     "inputWidgets": {},
     "nuid": "7ba9b882-c652-4f39-b650-29187ce580d3",
     "showTitle": false,
     "title": ""
    }
   },
   "source": [
    "### 4. Transações que possuem condições atípicas"
   ]
  },
  {
   "cell_type": "code",
   "execution_count": null,
   "metadata": {
    "application/vnd.databricks.v1+cell": {
     "cellMetadata": {
      "byteLimit": 2048000,
      "rowLimit": 10000
     },
     "inputWidgets": {},
     "nuid": "3dacab19-59c4-4248-9023-45a166f79965",
     "showTitle": false,
     "title": ""
    }
   },
   "outputs": [
    {
     "data": {
      "text/html": [
       "<style scoped>\n",
       "  .table-result-container {\n",
       "    max-height: 300px;\n",
       "    overflow: auto;\n",
       "  }\n",
       "  table, th, td {\n",
       "    border: 1px solid black;\n",
       "    border-collapse: collapse;\n",
       "  }\n",
       "  th, td {\n",
       "    padding: 5px;\n",
       "  }\n",
       "  th {\n",
       "    text-align: left;\n",
       "  }\n",
       "</style><div class='table-result-container'><table class='table-result'><thead style='background-color: white'><tr><th>IdTransaction</th><th>AddressOrigin</th><th>AddressDestination</th><th>TotalSent</th><th>Status</th><th>SentDate</th><th>ImportDate</th></tr></thead><tbody><tr><td>ID2732</td><td>A-3</td><td>A-50</td><td> 998,501.00 </td><td>Denied</td><td>2021-01-20 16:29:47</td><td>2021-01-31 23:59:59</td></tr><tr><td>ID266</td><td>A-50</td><td>A-84</td><td> 100,156.00 </td><td>Denied</td><td>2021-01-12 21:07:28</td><td>2021-01-31 23:59:59</td></tr><tr><td>ID1216</td><td>A-88</td><td>A-67</td><td> 502,360.00 </td><td>Pending</td><td>2021-01-24 21:45:26</td><td>2021-01-31 23:59:59</td></tr><tr><td>ID965</td><td>A-74</td><td>A-45</td><td> 426,923.00 </td><td>Denied</td><td>2021-01-24 19:19:47</td><td>2021-01-31 23:59:59</td></tr><tr><td>ID2837</td><td>A-74</td><td>A-100</td><td> 554,294.00 </td><td>Denied</td><td>2021-01-20 06:18:18</td><td>2021-01-31 23:59:59</td></tr><tr><td>ID2832</td><td>A-7</td><td>A-16</td><td> 119,209.00 </td><td>Pending</td><td>2021-01-28 21:45:26</td><td>2021-01-31 23:59:59</td></tr><tr><td>ID1158</td><td>A-22</td><td>A-76</td><td> 5,989.00 </td><td>Denied</td><td>2021-01-07 03:07:57</td><td>2021-01-31 23:59:59</td></tr><tr><td>ID2523</td><td>A-94</td><td>A-35</td><td> 773,785.00 </td><td>Pending</td><td>2021-01-23 19:33:41</td><td>2021-01-31 23:59:59</td></tr><tr><td>ID2593</td><td>A-88</td><td>A-71</td><td> 804,143.00 </td><td>Denied</td><td>2021-01-09 11:48:41</td><td>2021-01-31 23:59:59</td></tr><tr><td>ID2249</td><td>A-58</td><td>A-33</td><td> 940,414.00 </td><td>Pending</td><td>2021-01-10 10:39:40</td><td>2021-01-31 23:59:59</td></tr><tr><td>ID746</td><td>A-98</td><td>A-89</td><td> 625,380.00 </td><td>Pending</td><td>2021-01-10 18:57:38</td><td>2021-01-31 23:59:59</td></tr><tr><td>ID1310</td><td>A-21</td><td>A-78</td><td> 459,777.00 </td><td>Denied</td><td>2021-01-13 02:57:50</td><td>2021-01-31 23:59:59</td></tr><tr><td>ID2985</td><td>A-31</td><td>A-69</td><td> 811,353.00 </td><td>Pending</td><td>2021-01-01 20:08:01</td><td>2021-01-31 23:59:59</td></tr><tr><td>ID2873</td><td>A-2</td><td>A-1</td><td> 185,672.00 </td><td>Pending</td><td>2021-01-28 02:57:50</td><td>2021-01-31 23:59:59</td></tr><tr><td>ID500</td><td>A-19</td><td>A-45</td><td> 966,464.00 </td><td>Pending</td><td>2021-01-02 21:07:28</td><td>2021-01-31 23:59:59</td></tr><tr><td>ID1591</td><td>A-99</td><td>A-15</td><td> 881,559.00 </td><td>Pending</td><td>2021-01-20 06:49:25</td><td>2021-01-31 23:59:59</td></tr><tr><td>ID1729</td><td>A-85</td><td>A-18</td><td> 188,885.00 </td><td>Denied</td><td>2021-01-17 17:59:13</td><td>2021-01-31 23:59:59</td></tr><tr><td>ID2956</td><td>A-89</td><td>A-45</td><td> 355,195.00 </td><td>Pending</td><td>2021-01-11 21:45:26</td><td>2021-01-31 23:59:59</td></tr><tr><td>ID726</td><td>A-58</td><td>A-7</td><td> 670,308.00 </td><td>Pending</td><td>2021-01-20 21:45:26</td><td>2021-01-31 23:59:59</td></tr><tr><td>ID1189</td><td>A-17</td><td>A-20</td><td> 206,472.00 </td><td>Denied</td><td>2021-01-04 19:19:47</td><td>2021-01-31 23:59:59</td></tr><tr><td>ID1542</td><td>A-33</td><td>A-100</td><td> 536,107.00 </td><td>Denied</td><td>2021-01-14 11:48:41</td><td>2021-01-31 23:59:59</td></tr><tr><td>ID2904</td><td>A-59</td><td>A-69</td><td> 750,608.00 </td><td>Pending</td><td>2021-01-14 19:19:47</td><td>2021-01-31 23:59:59</td></tr><tr><td>ID2435</td><td>A-58</td><td>A-3</td><td> 526,620.00 </td><td>Pending</td><td>2021-01-26 20:08:01</td><td>2021-01-31 23:59:59</td></tr><tr><td>ID1354</td><td>A-66</td><td>A-12</td><td> 987,415.00 </td><td>Denied</td><td>2021-01-05 19:19:47</td><td>2021-01-31 23:59:59</td></tr><tr><td>ID858</td><td>A-60</td><td>A-35</td><td> 108,276.00 </td><td>Denied</td><td>2021-01-03 21:07:28</td><td>2021-01-31 23:59:59</td></tr><tr><td>ID92</td><td>A-74</td><td>A-50</td><td> 132,094.00 </td><td>Pending</td><td>2021-01-09 11:48:41</td><td>2021-01-31 23:59:59</td></tr><tr><td>ID1796</td><td>A-87</td><td>A-72</td><td> 69,019.00 </td><td>Pending</td><td>2021-01-02 13:34:04</td><td>2021-01-31 23:59:59</td></tr><tr><td>ID755</td><td>A-64</td><td>A-52</td><td> 109,263.00 </td><td>Denied</td><td>2021-01-21 03:13:24</td><td>2021-01-31 23:59:59</td></tr><tr><td>ID960</td><td>A-7</td><td>A-29</td><td> 411,817.00 </td><td>Denied</td><td>2021-01-12 06:36:39</td><td>2021-01-31 23:59:59</td></tr><tr><td>ID1315</td><td>A-42</td><td>A-23</td><td> 988,488.00 </td><td>Pending</td><td>2021-01-20 02:57:50</td><td>2021-01-31 23:59:59</td></tr><tr><td>ID222</td><td>A-86</td><td>A-7</td><td> 235,140.00 </td><td>Denied</td><td>2021-01-04 16:05:49</td><td>2021-01-31 23:59:59</td></tr><tr><td>ID2732</td><td>A-3</td><td>A-50</td><td> 998,501.00 </td><td>Denied</td><td>2021-01-20 16:29:47</td><td>2021-02-05 23:59:59</td></tr><tr><td>ID266</td><td>A-50</td><td>A-84</td><td> 100,156.00 </td><td>Denied</td><td>2021-01-12 21:07:28</td><td>2021-02-05 23:59:59</td></tr><tr><td>ID965</td><td>A-74</td><td>A-45</td><td> 426,923.00 </td><td>Denied</td><td>2021-01-24 19:19:47</td><td>2021-02-05 23:59:59</td></tr><tr><td>ID2837</td><td>A-74</td><td>A-100</td><td> 554,294.00 </td><td>Denied</td><td>2021-01-20 06:18:18</td><td>2021-02-05 23:59:59</td></tr><tr><td>ID2832</td><td>A-7</td><td>A-16</td><td> 119,209.00 </td><td>Pending</td><td>2021-01-28 21:45:26</td><td>2021-02-05 23:59:59</td></tr><tr><td>ID1158</td><td>A-22</td><td>A-76</td><td> 5,989.00 </td><td>Denied</td><td>2021-01-07 03:07:57</td><td>2021-02-05 23:59:59</td></tr><tr><td>ID2593</td><td>A-88</td><td>A-71</td><td> 804,143.00 </td><td>Denied</td><td>2021-01-09 11:48:41</td><td>2021-02-05 23:59:59</td></tr><tr><td>ID1310</td><td>A-21</td><td>A-78</td><td> 459,777.00 </td><td>Denied</td><td>2021-01-13 02:57:50</td><td>2021-02-05 23:59:59</td></tr><tr><td>ID2873</td><td>A-2</td><td>A-1</td><td> 185,672.00 </td><td>Denied</td><td>2021-01-28 02:57:50</td><td>2021-02-05 23:59:59</td></tr><tr><td>ID1729</td><td>A-85</td><td>A-18</td><td> 188,885.00 </td><td>Denied</td><td>2021-01-17 17:59:13</td><td>2021-02-05 23:59:59</td></tr><tr><td>ID726</td><td>A-58</td><td>A-7</td><td> 670,308.00 </td><td>Pending</td><td>2021-01-20 21:45:26</td><td>2021-02-05 23:59:59</td></tr><tr><td>ID1189</td><td>A-17</td><td>A-20</td><td> 206,472.00 </td><td>Denied</td><td>2021-01-04 19:19:47</td><td>2021-02-05 23:59:59</td></tr><tr><td>ID1542</td><td>A-33</td><td>A-100</td><td> 536,107.00 </td><td>Denied</td><td>2021-01-14 11:48:41</td><td>2021-02-05 23:59:59</td></tr><tr><td>ID2435</td><td>A-58</td><td>A-3</td><td> 526,620.00 </td><td>Pending</td><td>2021-01-26 20:08:01</td><td>2021-02-05 23:59:59</td></tr><tr><td>ID1354</td><td>A-66</td><td>A-12</td><td> 987,415.00 </td><td>Denied</td><td>2021-01-05 19:19:47</td><td>2021-02-05 23:59:59</td></tr><tr><td>ID858</td><td>A-60</td><td>A-35</td><td> 108,276.00 </td><td>Denied</td><td>2021-01-03 21:07:28</td><td>2021-02-05 23:59:59</td></tr><tr><td>ID92</td><td>A-74</td><td>A-50</td><td> 132,094.00 </td><td>Denied</td><td>2021-01-09 11:48:41</td><td>2021-02-05 23:59:59</td></tr><tr><td>ID1796</td><td>A-87</td><td>A-72</td><td> 69,019.00 </td><td>Denied</td><td>2021-01-02 13:34:04</td><td>2021-02-05 23:59:59</td></tr><tr><td>ID755</td><td>A-64</td><td>A-52</td><td> 109,263.00 </td><td>Denied</td><td>2021-01-21 03:13:24</td><td>2021-02-05 23:59:59</td></tr><tr><td>ID960</td><td>A-7</td><td>A-29</td><td> 411,817.00 </td><td>Denied</td><td>2021-01-12 06:36:39</td><td>2021-02-05 23:59:59</td></tr><tr><td>ID222</td><td>A-86</td><td>A-7</td><td> 235,140.00 </td><td>Denied</td><td>2021-01-04 16:05:49</td><td>2021-02-05 23:59:59</td></tr><tr><td>ID3022</td><td>A-57</td><td>A-74</td><td> 582,639.00 </td><td>Denied</td><td>2021-02-02 19:16:00</td><td>2021-02-05 23:59:59</td></tr><tr><td>ID3051</td><td>A-15</td><td>A-87</td><td> 988,621.00 </td><td>Denied</td><td>2021-02-01 05:41:31</td><td>2021-02-05 23:59:59</td></tr><tr><td>ID3133</td><td>A-88</td><td>A-39</td><td> 350,076.00 </td><td>Pending</td><td>2021-02-03 02:53:12</td><td>2021-02-05 23:59:59</td></tr><tr><td>ID3126</td><td>A-46</td><td>A-67</td><td> 831,296.00 </td><td>Denied</td><td>2021-02-04 19:16:00</td><td>2021-02-05 23:59:59</td></tr><tr><td>ID3008</td><td>A-59</td><td>A-47</td><td> 694,983.00 </td><td>Denied</td><td>2021-02-04 01:35:23</td><td>2021-02-05 23:59:59</td></tr><tr><td>ID3156</td><td>A-11</td><td>A-1</td><td> 15,195.00 </td><td>Pending</td><td>2021-02-01 19:16:00</td><td>2021-02-05 23:59:59</td></tr><tr><td>ID3057</td><td>A-54</td><td>A-9</td><td> 247,406.00 </td><td>Denied</td><td>2021-02-05 22:56:28</td><td>2021-02-05 23:59:59</td></tr><tr><td>ID3122</td><td>A-86</td><td>A-75</td><td> 169,364.00 </td><td>Pending</td><td>2021-02-05 22:56:28</td><td>2021-02-05 23:59:59</td></tr><tr><td>ID3138</td><td>A-57</td><td></td><td> 157,964.00 </td><td>Confirmed</td><td>2021-02-02 19:16:00</td><td>2021-02-05 23:59:59</td></tr><tr><td>ID3046</td><td>A-93</td><td>A-80</td><td></td><td>Confirmed</td><td>2021-02-02 19:16:00</td><td>2021-02-05 23:59:59</td></tr><tr><td>ID3143</td><td>A-66</td><td>A-87</td><td> 286,034.00 </td><td>Denied</td><td>2021-02-02 19:16:00</td><td>2021-02-05 23:59:59</td></tr><tr><td>ID3017</td><td></td><td>A-66</td><td> 380,569.00 </td><td>Confirmed</td><td>2021-02-03 05:41:31</td><td>2021-02-05 23:59:59</td></tr><tr><td>ID3153</td><td>A-74</td><td>A-69</td><td></td><td>Confirmed</td><td>2021-02-03 01:35:23</td><td>2021-02-05 23:59:59</td></tr><tr><td>ID3169</td><td>A-69</td><td>A-28</td><td></td><td>Confirmed</td><td>2021-02-01 01:35:23</td><td>2021-02-05 23:59:59</td></tr></tbody></table></div>"
      ]
     },
     "metadata": {
      "application/vnd.databricks.v1+output": {
       "addedWidgets": {},
       "aggData": [],
       "aggError": "",
       "aggOverflow": false,
       "aggSchema": [],
       "aggSeriesLimitReached": false,
       "aggType": "",
       "arguments": {},
       "columnCustomDisplayInfos": {},
       "data": [
        [
         "ID2732",
         "A-3",
         "A-50",
         " 998,501.00 ",
         "Denied",
         "2021-01-20 16:29:47",
         "2021-01-31 23:59:59"
        ],
        [
         "ID266",
         "A-50",
         "A-84",
         " 100,156.00 ",
         "Denied",
         "2021-01-12 21:07:28",
         "2021-01-31 23:59:59"
        ],
        [
         "ID1216",
         "A-88",
         "A-67",
         " 502,360.00 ",
         "Pending",
         "2021-01-24 21:45:26",
         "2021-01-31 23:59:59"
        ],
        [
         "ID965",
         "A-74",
         "A-45",
         " 426,923.00 ",
         "Denied",
         "2021-01-24 19:19:47",
         "2021-01-31 23:59:59"
        ],
        [
         "ID2837",
         "A-74",
         "A-100",
         " 554,294.00 ",
         "Denied",
         "2021-01-20 06:18:18",
         "2021-01-31 23:59:59"
        ],
        [
         "ID2832",
         "A-7",
         "A-16",
         " 119,209.00 ",
         "Pending",
         "2021-01-28 21:45:26",
         "2021-01-31 23:59:59"
        ],
        [
         "ID1158",
         "A-22",
         "A-76",
         " 5,989.00 ",
         "Denied",
         "2021-01-07 03:07:57",
         "2021-01-31 23:59:59"
        ],
        [
         "ID2523",
         "A-94",
         "A-35",
         " 773,785.00 ",
         "Pending",
         "2021-01-23 19:33:41",
         "2021-01-31 23:59:59"
        ],
        [
         "ID2593",
         "A-88",
         "A-71",
         " 804,143.00 ",
         "Denied",
         "2021-01-09 11:48:41",
         "2021-01-31 23:59:59"
        ],
        [
         "ID2249",
         "A-58",
         "A-33",
         " 940,414.00 ",
         "Pending",
         "2021-01-10 10:39:40",
         "2021-01-31 23:59:59"
        ],
        [
         "ID746",
         "A-98",
         "A-89",
         " 625,380.00 ",
         "Pending",
         "2021-01-10 18:57:38",
         "2021-01-31 23:59:59"
        ],
        [
         "ID1310",
         "A-21",
         "A-78",
         " 459,777.00 ",
         "Denied",
         "2021-01-13 02:57:50",
         "2021-01-31 23:59:59"
        ],
        [
         "ID2985",
         "A-31",
         "A-69",
         " 811,353.00 ",
         "Pending",
         "2021-01-01 20:08:01",
         "2021-01-31 23:59:59"
        ],
        [
         "ID2873",
         "A-2",
         "A-1",
         " 185,672.00 ",
         "Pending",
         "2021-01-28 02:57:50",
         "2021-01-31 23:59:59"
        ],
        [
         "ID500",
         "A-19",
         "A-45",
         " 966,464.00 ",
         "Pending",
         "2021-01-02 21:07:28",
         "2021-01-31 23:59:59"
        ],
        [
         "ID1591",
         "A-99",
         "A-15",
         " 881,559.00 ",
         "Pending",
         "2021-01-20 06:49:25",
         "2021-01-31 23:59:59"
        ],
        [
         "ID1729",
         "A-85",
         "A-18",
         " 188,885.00 ",
         "Denied",
         "2021-01-17 17:59:13",
         "2021-01-31 23:59:59"
        ],
        [
         "ID2956",
         "A-89",
         "A-45",
         " 355,195.00 ",
         "Pending",
         "2021-01-11 21:45:26",
         "2021-01-31 23:59:59"
        ],
        [
         "ID726",
         "A-58",
         "A-7",
         " 670,308.00 ",
         "Pending",
         "2021-01-20 21:45:26",
         "2021-01-31 23:59:59"
        ],
        [
         "ID1189",
         "A-17",
         "A-20",
         " 206,472.00 ",
         "Denied",
         "2021-01-04 19:19:47",
         "2021-01-31 23:59:59"
        ],
        [
         "ID1542",
         "A-33",
         "A-100",
         " 536,107.00 ",
         "Denied",
         "2021-01-14 11:48:41",
         "2021-01-31 23:59:59"
        ],
        [
         "ID2904",
         "A-59",
         "A-69",
         " 750,608.00 ",
         "Pending",
         "2021-01-14 19:19:47",
         "2021-01-31 23:59:59"
        ],
        [
         "ID2435",
         "A-58",
         "A-3",
         " 526,620.00 ",
         "Pending",
         "2021-01-26 20:08:01",
         "2021-01-31 23:59:59"
        ],
        [
         "ID1354",
         "A-66",
         "A-12",
         " 987,415.00 ",
         "Denied",
         "2021-01-05 19:19:47",
         "2021-01-31 23:59:59"
        ],
        [
         "ID858",
         "A-60",
         "A-35",
         " 108,276.00 ",
         "Denied",
         "2021-01-03 21:07:28",
         "2021-01-31 23:59:59"
        ],
        [
         "ID92",
         "A-74",
         "A-50",
         " 132,094.00 ",
         "Pending",
         "2021-01-09 11:48:41",
         "2021-01-31 23:59:59"
        ],
        [
         "ID1796",
         "A-87",
         "A-72",
         " 69,019.00 ",
         "Pending",
         "2021-01-02 13:34:04",
         "2021-01-31 23:59:59"
        ],
        [
         "ID755",
         "A-64",
         "A-52",
         " 109,263.00 ",
         "Denied",
         "2021-01-21 03:13:24",
         "2021-01-31 23:59:59"
        ],
        [
         "ID960",
         "A-7",
         "A-29",
         " 411,817.00 ",
         "Denied",
         "2021-01-12 06:36:39",
         "2021-01-31 23:59:59"
        ],
        [
         "ID1315",
         "A-42",
         "A-23",
         " 988,488.00 ",
         "Pending",
         "2021-01-20 02:57:50",
         "2021-01-31 23:59:59"
        ],
        [
         "ID222",
         "A-86",
         "A-7",
         " 235,140.00 ",
         "Denied",
         "2021-01-04 16:05:49",
         "2021-01-31 23:59:59"
        ],
        [
         "ID2732",
         "A-3",
         "A-50",
         " 998,501.00 ",
         "Denied",
         "2021-01-20 16:29:47",
         "2021-02-05 23:59:59"
        ],
        [
         "ID266",
         "A-50",
         "A-84",
         " 100,156.00 ",
         "Denied",
         "2021-01-12 21:07:28",
         "2021-02-05 23:59:59"
        ],
        [
         "ID965",
         "A-74",
         "A-45",
         " 426,923.00 ",
         "Denied",
         "2021-01-24 19:19:47",
         "2021-02-05 23:59:59"
        ],
        [
         "ID2837",
         "A-74",
         "A-100",
         " 554,294.00 ",
         "Denied",
         "2021-01-20 06:18:18",
         "2021-02-05 23:59:59"
        ],
        [
         "ID2832",
         "A-7",
         "A-16",
         " 119,209.00 ",
         "Pending",
         "2021-01-28 21:45:26",
         "2021-02-05 23:59:59"
        ],
        [
         "ID1158",
         "A-22",
         "A-76",
         " 5,989.00 ",
         "Denied",
         "2021-01-07 03:07:57",
         "2021-02-05 23:59:59"
        ],
        [
         "ID2593",
         "A-88",
         "A-71",
         " 804,143.00 ",
         "Denied",
         "2021-01-09 11:48:41",
         "2021-02-05 23:59:59"
        ],
        [
         "ID1310",
         "A-21",
         "A-78",
         " 459,777.00 ",
         "Denied",
         "2021-01-13 02:57:50",
         "2021-02-05 23:59:59"
        ],
        [
         "ID2873",
         "A-2",
         "A-1",
         " 185,672.00 ",
         "Denied",
         "2021-01-28 02:57:50",
         "2021-02-05 23:59:59"
        ],
        [
         "ID1729",
         "A-85",
         "A-18",
         " 188,885.00 ",
         "Denied",
         "2021-01-17 17:59:13",
         "2021-02-05 23:59:59"
        ],
        [
         "ID726",
         "A-58",
         "A-7",
         " 670,308.00 ",
         "Pending",
         "2021-01-20 21:45:26",
         "2021-02-05 23:59:59"
        ],
        [
         "ID1189",
         "A-17",
         "A-20",
         " 206,472.00 ",
         "Denied",
         "2021-01-04 19:19:47",
         "2021-02-05 23:59:59"
        ],
        [
         "ID1542",
         "A-33",
         "A-100",
         " 536,107.00 ",
         "Denied",
         "2021-01-14 11:48:41",
         "2021-02-05 23:59:59"
        ],
        [
         "ID2435",
         "A-58",
         "A-3",
         " 526,620.00 ",
         "Pending",
         "2021-01-26 20:08:01",
         "2021-02-05 23:59:59"
        ],
        [
         "ID1354",
         "A-66",
         "A-12",
         " 987,415.00 ",
         "Denied",
         "2021-01-05 19:19:47",
         "2021-02-05 23:59:59"
        ],
        [
         "ID858",
         "A-60",
         "A-35",
         " 108,276.00 ",
         "Denied",
         "2021-01-03 21:07:28",
         "2021-02-05 23:59:59"
        ],
        [
         "ID92",
         "A-74",
         "A-50",
         " 132,094.00 ",
         "Denied",
         "2021-01-09 11:48:41",
         "2021-02-05 23:59:59"
        ],
        [
         "ID1796",
         "A-87",
         "A-72",
         " 69,019.00 ",
         "Denied",
         "2021-01-02 13:34:04",
         "2021-02-05 23:59:59"
        ],
        [
         "ID755",
         "A-64",
         "A-52",
         " 109,263.00 ",
         "Denied",
         "2021-01-21 03:13:24",
         "2021-02-05 23:59:59"
        ],
        [
         "ID960",
         "A-7",
         "A-29",
         " 411,817.00 ",
         "Denied",
         "2021-01-12 06:36:39",
         "2021-02-05 23:59:59"
        ],
        [
         "ID222",
         "A-86",
         "A-7",
         " 235,140.00 ",
         "Denied",
         "2021-01-04 16:05:49",
         "2021-02-05 23:59:59"
        ],
        [
         "ID3022",
         "A-57",
         "A-74",
         " 582,639.00 ",
         "Denied",
         "2021-02-02 19:16:00",
         "2021-02-05 23:59:59"
        ],
        [
         "ID3051",
         "A-15",
         "A-87",
         " 988,621.00 ",
         "Denied",
         "2021-02-01 05:41:31",
         "2021-02-05 23:59:59"
        ],
        [
         "ID3133",
         "A-88",
         "A-39",
         " 350,076.00 ",
         "Pending",
         "2021-02-03 02:53:12",
         "2021-02-05 23:59:59"
        ],
        [
         "ID3126",
         "A-46",
         "A-67",
         " 831,296.00 ",
         "Denied",
         "2021-02-04 19:16:00",
         "2021-02-05 23:59:59"
        ],
        [
         "ID3008",
         "A-59",
         "A-47",
         " 694,983.00 ",
         "Denied",
         "2021-02-04 01:35:23",
         "2021-02-05 23:59:59"
        ],
        [
         "ID3156",
         "A-11",
         "A-1",
         " 15,195.00 ",
         "Pending",
         "2021-02-01 19:16:00",
         "2021-02-05 23:59:59"
        ],
        [
         "ID3057",
         "A-54",
         "A-9",
         " 247,406.00 ",
         "Denied",
         "2021-02-05 22:56:28",
         "2021-02-05 23:59:59"
        ],
        [
         "ID3122",
         "A-86",
         "A-75",
         " 169,364.00 ",
         "Pending",
         "2021-02-05 22:56:28",
         "2021-02-05 23:59:59"
        ],
        [
         "ID3138",
         "A-57",
         "",
         " 157,964.00 ",
         "Confirmed",
         "2021-02-02 19:16:00",
         "2021-02-05 23:59:59"
        ],
        [
         "ID3046",
         "A-93",
         "A-80",
         "",
         "Confirmed",
         "2021-02-02 19:16:00",
         "2021-02-05 23:59:59"
        ],
        [
         "ID3143",
         "A-66",
         "A-87",
         " 286,034.00 ",
         "Denied",
         "2021-02-02 19:16:00",
         "2021-02-05 23:59:59"
        ],
        [
         "ID3017",
         "",
         "A-66",
         " 380,569.00 ",
         "Confirmed",
         "2021-02-03 05:41:31",
         "2021-02-05 23:59:59"
        ],
        [
         "ID3153",
         "A-74",
         "A-69",
         "",
         "Confirmed",
         "2021-02-03 01:35:23",
         "2021-02-05 23:59:59"
        ],
        [
         "ID3169",
         "A-69",
         "A-28",
         "",
         "Confirmed",
         "2021-02-01 01:35:23",
         "2021-02-05 23:59:59"
        ]
       ],
       "datasetInfos": [],
       "dbfsResultPath": null,
       "isJsonSchema": true,
       "metadata": {},
       "overflow": false,
       "plotOptions": {
        "customPlotOptions": {},
        "displayType": "table",
        "pivotAggregation": null,
        "pivotColumns": null,
        "xColumns": null,
        "yColumns": null
       },
       "removedWidgets": [],
       "schema": [
        {
         "metadata": "{}",
         "name": "IdTransaction",
         "type": "\"string\""
        },
        {
         "metadata": "{}",
         "name": "AddressOrigin",
         "type": "\"string\""
        },
        {
         "metadata": "{}",
         "name": "AddressDestination",
         "type": "\"string\""
        },
        {
         "metadata": "{}",
         "name": "TotalSent",
         "type": "\"string\""
        },
        {
         "metadata": "{}",
         "name": "Status",
         "type": "\"string\""
        },
        {
         "metadata": "{}",
         "name": "SentDate",
         "type": "\"string\""
        },
        {
         "metadata": "{}",
         "name": "ImportDate",
         "type": "\"string\""
        }
       ],
       "type": "table"
      }
     },
     "output_type": "display_data"
    }
   ],
   "source": [
    "display(select_table('''\n",
    "SELECT \n",
    "   * \n",
    "FROM \n",
    "   db_hiring_test.raw_transactions_table\n",
    "WHERE \n",
    "   AddressOrigin IS NULL \n",
    "   OR AddressOrigin = ''\n",
    "   OR AddressDestination IS NULL \n",
    "   OR AddressDestination = ''\n",
    "   OR TotalSent IS NULL \n",
    "   OR TotalSent = ''\n",
    "   OR Status IS NULL \n",
    "   OR Status = ''\n",
    "   OR Status <> 'Confirmed'\n",
    "'''))"
   ]
  },
  {
   "cell_type": "markdown",
   "metadata": {
    "application/vnd.databricks.v1+cell": {
     "cellMetadata": {},
     "inputWidgets": {},
     "nuid": "ddc18838-9889-4ae6-ba28-fd7b98c83542",
     "showTitle": false,
     "title": ""
    }
   },
   "source": [
    "### 5. Carteira com o maior saldo final"
   ]
  },
  {
   "cell_type": "code",
   "execution_count": null,
   "metadata": {
    "application/vnd.databricks.v1+cell": {
     "cellMetadata": {
      "byteLimit": 2048000,
      "rowLimit": 10000
     },
     "inputWidgets": {},
     "nuid": "1c7283a2-db42-48cd-9de0-67be97f6934d",
     "showTitle": false,
     "title": ""
    }
   },
   "outputs": [
    {
     "data": {
      "text/html": [
       "<style scoped>\n",
       "  .table-result-container {\n",
       "    max-height: 300px;\n",
       "    overflow: auto;\n",
       "  }\n",
       "  table, th, td {\n",
       "    border: 1px solid black;\n",
       "    border-collapse: collapse;\n",
       "  }\n",
       "  th, td {\n",
       "    padding: 5px;\n",
       "  }\n",
       "  th {\n",
       "    text-align: left;\n",
       "  }\n",
       "</style><div class='table-result-container'><table class='table-result'><thead style='background-color: white'><tr><th>ADDRESS_DESTINATION</th><th>TOTAL_SENT</th></tr></thead><tbody><tr><td>A-12</td><td>4.6125129E7</td></tr></tbody></table></div>"
      ]
     },
     "metadata": {
      "application/vnd.databricks.v1+output": {
       "addedWidgets": {},
       "aggData": [],
       "aggError": "",
       "aggOverflow": false,
       "aggSchema": [],
       "aggSeriesLimitReached": false,
       "aggType": "",
       "arguments": {},
       "columnCustomDisplayInfos": {},
       "data": [
        [
         "A-12",
         46125129
        ]
       ],
       "datasetInfos": [],
       "dbfsResultPath": null,
       "isJsonSchema": true,
       "metadata": {},
       "overflow": false,
       "plotOptions": {
        "customPlotOptions": {},
        "displayType": "table",
        "pivotAggregation": null,
        "pivotColumns": null,
        "xColumns": null,
        "yColumns": null
       },
       "removedWidgets": [],
       "schema": [
        {
         "metadata": "{}",
         "name": "ADDRESS_DESTINATION",
         "type": "\"string\""
        },
        {
         "metadata": "{}",
         "name": "TOTAL_SENT",
         "type": "\"double\""
        }
       ],
       "type": "table"
      }
     },
     "output_type": "display_data"
    },
    {
     "data": {
      "text/plain": [
       "Databricks visualization. Run in Databricks to view."
      ]
     },
     "metadata": {
      "application/vnd.databricks.v1.subcommand+json": {
       "baseErrorDetails": null,
       "bindings": {},
       "collapsed": false,
       "command": "display(select_table('''\n    SELECT \n            AddressDestination AS ADDRESS_DESTINATION, \n            SUM(CAST(REPLACE(TotalSent, ',', '') AS DOUBLE)) AS TOTAL_SENT\n    FROM db_hiring_test.raw_transactions_table\n    GROUP BY ADDRESS_DESTINATION\n    ORDER BY TOTAL_SENT DESC\n    LIMIT 1\n'''))",
       "commandTitle": "Visualization 1",
       "commandType": "auto",
       "commandVersion": 0,
       "commentThread": [],
       "commentsVisible": false,
       "contentSha256Hex": null,
       "customPlotOptions": {
        "redashChart": [
         {
          "key": "type",
          "value": "TABLE"
         },
         {
          "key": "options",
          "value": {
           "columns": [
            {
             "alignContent": "center",
             "allowHTML": false,
             "allowSearch": false,
             "booleanValues": [
              "false",
              "true"
             ],
             "displayAs": "string",
             "highlightLinks": false,
             "imageHeight": "",
             "imageTitleTemplate": "{{ @ }}",
             "imageUrlTemplate": "{{ @ }}",
             "imageWidth": "",
             "linkOpenInNewTab": true,
             "linkTextTemplate": "{{ @ }}",
             "linkTitleTemplate": "{{ @ }}",
             "linkUrlTemplate": "{{ @ }}",
             "name": "ADDRESS_DESTINATION",
             "order": 100000,
             "preserveWhitespace": false,
             "title": "ADDRESS_DESTINATION",
             "type": "string",
             "useMonospaceFont": false,
             "visible": true
            },
            {
             "alignContent": "center",
             "allowHTML": false,
             "allowSearch": false,
             "booleanValues": [
              "false",
              "true"
             ],
             "displayAs": "number",
             "highlightLinks": false,
             "imageHeight": "",
             "imageTitleTemplate": "{{ @ }}",
             "imageUrlTemplate": "{{ @ }}",
             "imageWidth": "",
             "linkOpenInNewTab": true,
             "linkTextTemplate": "{{ @ }}",
             "linkTitleTemplate": "{{ @ }}",
             "linkUrlTemplate": "{{ @ }}",
             "name": "TOTAL_SENT",
             "numberFormat": "00,0.00",
             "order": 100001,
             "preserveWhitespace": false,
             "title": "TOTAL_SENT",
             "type": "float",
             "useMonospaceFont": false,
             "visible": true
            }
           ],
           "condensed": true,
           "itemsPerPage": 25,
           "paginationSize": "default",
           "version": 2,
           "withRowNumber": false
          }
         }
        ]
       },
       "datasetPreviewNameToCmdIdMap": {},
       "diffDeletes": [],
       "diffInserts": [],
       "displayType": "redashChart",
       "error": null,
       "errorDetails": null,
       "errorSummary": null,
       "errorTraceType": null,
       "finishTime": 0,
       "globalVars": {},
       "guid": "",
       "height": "auto",
       "hideCommandCode": false,
       "hideCommandResult": false,
       "iPythonMetadata": null,
       "inputWidgets": {},
       "isLockedInExamMode": false,
       "latestUser": "a user",
       "latestUserId": null,
       "listResultMetadata": null,
       "metadata": {},
       "nuid": "b9c15049-d191-446f-b421-578168dd026f",
       "origId": 0,
       "parentHierarchy": [],
       "pivotAggregation": null,
       "pivotColumns": null,
       "position": 3.874755859375,
       "resultDbfsErrorMessage": null,
       "resultDbfsStatus": "INLINED_IN_TREE",
       "results": null,
       "showCommandTitle": false,
       "startTime": 0,
       "state": "input",
       "streamStates": {},
       "subcommandOptions": {},
       "submitTime": 0,
       "subtype": "tableResultSubCmd.visualization",
       "tableResultIndex": 0,
       "tableResultSettingsMap": null,
       "useConsistentColors": false,
       "version": "CommandV1",
       "width": "auto",
       "workflows": [],
       "xColumns": null,
       "yColumns": null
      }
     },
     "output_type": "display_data"
    }
   ],
   "source": [
    "display(select_table('''\n",
    "SELECT \n",
    "    AddressDestination AS ADDRESS_DESTINATION, \n",
    "    SUM(CAST(REPLACE(TotalSent, ',', '') AS DOUBLE)) AS TOTAL_SENT\n",
    "FROM \n",
    "    db_hiring_test.raw_transactions_table\n",
    "GROUP BY \n",
    "    ADDRESS_DESTINATION\n",
    "ORDER BY \n",
    "    TOTAL_SENT DESC\n",
    "LIMIT \n",
    "    1\n",
    "'''))"
   ]
  },
  {
   "cell_type": "markdown",
   "metadata": {
    "application/vnd.databricks.v1+cell": {
     "cellMetadata": {
      "byteLimit": 2048000,
      "rowLimit": 10000
     },
     "inputWidgets": {},
     "nuid": "aea73b39-ca05-48ac-a06b-bd369f0d9533",
     "showTitle": false,
     "title": ""
    }
   },
   "source": [
    "# Fase 2"
   ]
  },
  {
   "cell_type": "markdown",
   "metadata": {
    "application/vnd.databricks.v1+cell": {
     "cellMetadata": {},
     "inputWidgets": {},
     "nuid": "dae8f5e2-37a0-4966-9fe7-c170ab15b64d",
     "showTitle": false,
     "title": ""
    }
   },
   "source": [
    "### Maior pagamento de taxas em janeiro e fevereiro de 2021"
   ]
  },
  {
   "cell_type": "code",
   "execution_count": null,
   "metadata": {
    "application/vnd.databricks.v1+cell": {
     "cellMetadata": {
      "byteLimit": 2048000,
      "rowLimit": 10000
     },
     "inputWidgets": {},
     "nuid": "882dcb26-2ecb-4af6-a32d-bf030c6646f6",
     "showTitle": false,
     "title": ""
    }
   },
   "outputs": [
    {
     "data": {
      "text/html": [
       "<style scoped>\n",
       "  .table-result-container {\n",
       "    max-height: 300px;\n",
       "    overflow: auto;\n",
       "  }\n",
       "  table, th, td {\n",
       "    border: 1px solid black;\n",
       "    border-collapse: collapse;\n",
       "  }\n",
       "  th, td {\n",
       "    padding: 5px;\n",
       "  }\n",
       "  th {\n",
       "    text-align: left;\n",
       "  }\n",
       "</style><div class='table-result-container'><table class='table-result'><thead style='background-color: white'><tr><th>ADDRESS_ORIGIN</th><th>SUM_TOTAL_SENT</th><th>SEND_YEAR</th><th>SEND_MONTH</th><th>SUM_PERCENTAGE</th></tr></thead><tbody><tr><td>A-91</td><td>3048822.0</td><td>2021</td><td>2</td><td>34.0</td></tr></tbody></table></div>"
      ]
     },
     "metadata": {
      "application/vnd.databricks.v1+output": {
       "addedWidgets": {},
       "aggData": [],
       "aggError": "",
       "aggOverflow": false,
       "aggSchema": [],
       "aggSeriesLimitReached": false,
       "aggType": "",
       "arguments": {},
       "columnCustomDisplayInfos": {},
       "data": [
        [
         "A-91",
         3048822,
         2021,
         2,
         34
        ]
       ],
       "datasetInfos": [],
       "dbfsResultPath": null,
       "isJsonSchema": true,
       "metadata": {},
       "overflow": false,
       "plotOptions": {
        "customPlotOptions": {},
        "displayType": "table",
        "pivotAggregation": null,
        "pivotColumns": null,
        "xColumns": null,
        "yColumns": null
       },
       "removedWidgets": [],
       "schema": [
        {
         "metadata": "{}",
         "name": "ADDRESS_ORIGIN",
         "type": "\"string\""
        },
        {
         "metadata": "{}",
         "name": "SUM_TOTAL_SENT",
         "type": "\"double\""
        },
        {
         "metadata": "{}",
         "name": "SEND_YEAR",
         "type": "\"long\""
        },
        {
         "metadata": "{}",
         "name": "SEND_MONTH",
         "type": "\"long\""
        },
        {
         "metadata": "{}",
         "name": "SUM_PERCENTAGE",
         "type": "\"double\""
        }
       ],
       "type": "table"
      }
     },
     "output_type": "display_data"
    },
    {
     "data": {
      "text/plain": [
       "Databricks visualization. Run in Databricks to view."
      ]
     },
     "metadata": {
      "application/vnd.databricks.v1.subcommand+json": {
       "baseErrorDetails": null,
       "bindings": {},
       "collapsed": false,
       "command": "display(select_table('''\nWITH RTT_TRANSFORM AS (\n    SELECT \n        AddressOrigin,\n        CAST(REPLACE(TotalSent, ',', '') AS DOUBLE) AS Total_Sent,\n        YEAR(STR_TO_DATE(SentDate,'%Y-%m-%d %H:%i:%s')) AS SendYear,\n        MONTH(STR_TO_DATE(SentDate,'%Y-%m-%d %H:%i:%s')) AS SendMonth\n    FROM \n        db_hiring_test.raw_transactions_table\n    WHERE Status = 'Confirmed'\n),\nRTF_TRANSFORM AS (\n    SELECT \n        `range-start` AS R_START,\n        `range-end` AS R_END,\n        CAST(`fee-percentage` AS DOUBLE) AS F_PERCENTAGE\n    FROM \n        db_hiring_test.raw_transactions_fee\n),\nRTT_RTF_MATCH AS (\n    SELECT \n        rtt.*, \n        rtf.F_PERCENTAGE\n    FROM \n        RTT_TRANSFORM rtt\n    JOIN \n        RTF_TRANSFORM rtf \n    ON \n        rtt.Total_Sent BETWEEN rtf.R_START AND rtf.R_END\n)\n\nSELECT \n    AddressOrigin AS ADDRESS_ORIGIN,\n    SUM(Total_Sent) AS SUM_TOTAL_SENT,\n    SendYear SEND_YEAR,\n    SendMonth SEND_MONTH,\n    SUM(F_PERCENTAGE) AS SUM_PERCENTAGE\n\nFROM \n    RTT_RTF_MATCH\nWHERE SendYear = 2021 AND SendMonth = 1\nGROUP BY ADDRESS_ORIGIN\nORDER BY SUM_PERCENTAGE DESC\nLIMIT 1\n'''))\n",
       "commandTitle": "Visualization 1",
       "commandType": "auto",
       "commandVersion": 0,
       "commentThread": [],
       "commentsVisible": false,
       "contentSha256Hex": null,
       "customPlotOptions": {
        "redashChart": [
         {
          "key": "type",
          "value": "TABLE"
         },
         {
          "key": "options",
          "value": {
           "columns": [
            {
             "alignContent": "center",
             "allowHTML": false,
             "allowSearch": false,
             "booleanValues": [
              "false",
              "true"
             ],
             "displayAs": "string",
             "highlightLinks": false,
             "imageHeight": "",
             "imageTitleTemplate": "{{ @ }}",
             "imageUrlTemplate": "{{ @ }}",
             "imageWidth": "",
             "linkOpenInNewTab": true,
             "linkTextTemplate": "{{ @ }}",
             "linkTitleTemplate": "{{ @ }}",
             "linkUrlTemplate": "{{ @ }}",
             "name": "ADDRESS_ORIGIN",
             "order": 100000,
             "preserveWhitespace": false,
             "title": "ADDRESS_ORIGIN",
             "type": "string",
             "useMonospaceFont": false,
             "visible": true
            },
            {
             "alignContent": "center",
             "allowHTML": false,
             "allowSearch": false,
             "booleanValues": [
              "false",
              "true"
             ],
             "displayAs": "number",
             "highlightLinks": false,
             "imageHeight": "",
             "imageTitleTemplate": "{{ @ }}",
             "imageUrlTemplate": "{{ @ }}",
             "imageWidth": "",
             "linkOpenInNewTab": true,
             "linkTextTemplate": "{{ @ }}",
             "linkTitleTemplate": "{{ @ }}",
             "linkUrlTemplate": "{{ @ }}",
             "name": "SUM_TOTAL_SENT",
             "numberFormat": "00,0.00",
             "order": 100001,
             "preserveWhitespace": false,
             "title": "SUM_TOTAL_SENT",
             "type": "float",
             "useMonospaceFont": false,
             "visible": true
            },
            {
             "alignContent": "center",
             "allowHTML": false,
             "allowSearch": false,
             "booleanValues": [
              "false",
              "true"
             ],
             "displayAs": "number",
             "highlightLinks": false,
             "imageHeight": "",
             "imageTitleTemplate": "{{ @ }}",
             "imageUrlTemplate": "{{ @ }}",
             "imageWidth": "",
             "linkOpenInNewTab": true,
             "linkTextTemplate": "{{ @ }}",
             "linkTitleTemplate": "{{ @ }}",
             "linkUrlTemplate": "{{ @ }}",
             "name": "SEND_YEAR",
             "numberFormat": "0",
             "order": 100002,
             "preserveWhitespace": false,
             "title": "SEND_YEAR",
             "type": "integer",
             "useMonospaceFont": false,
             "visible": true
            },
            {
             "alignContent": "center",
             "allowHTML": false,
             "allowSearch": false,
             "booleanValues": [
              "false",
              "true"
             ],
             "displayAs": "number",
             "highlightLinks": false,
             "imageHeight": "",
             "imageTitleTemplate": "{{ @ }}",
             "imageUrlTemplate": "{{ @ }}",
             "imageWidth": "",
             "linkOpenInNewTab": true,
             "linkTextTemplate": "{{ @ }}",
             "linkTitleTemplate": "{{ @ }}",
             "linkUrlTemplate": "{{ @ }}",
             "name": "SEND_MONTH",
             "numberFormat": "0",
             "order": 100003,
             "preserveWhitespace": false,
             "title": "SEND_MONTH",
             "type": "integer",
             "useMonospaceFont": false,
             "visible": true
            },
            {
             "alignContent": "center",
             "allowHTML": false,
             "allowSearch": false,
             "booleanValues": [
              "false",
              "true"
             ],
             "displayAs": "number",
             "highlightLinks": false,
             "imageHeight": "",
             "imageTitleTemplate": "{{ @ }}",
             "imageUrlTemplate": "{{ @ }}",
             "imageWidth": "",
             "linkOpenInNewTab": true,
             "linkTextTemplate": "{{ @ }}",
             "linkTitleTemplate": "{{ @ }}",
             "linkUrlTemplate": "{{ @ }}",
             "name": "SUM_PERCENTAGE",
             "numberFormat": "0.00",
             "order": 100004,
             "preserveWhitespace": false,
             "title": "SUM_PERCENTAGE",
             "type": "float",
             "useMonospaceFont": false,
             "visible": true
            }
           ],
           "condensed": true,
           "itemsPerPage": 25,
           "paginationSize": "default",
           "version": 2,
           "withRowNumber": false
          }
         }
        ]
       },
       "datasetPreviewNameToCmdIdMap": {},
       "diffDeletes": [],
       "diffInserts": [],
       "displayType": "redashChart",
       "error": null,
       "errorDetails": null,
       "errorSummary": null,
       "errorTraceType": null,
       "finishTime": 0,
       "globalVars": {},
       "guid": "",
       "height": "auto",
       "hideCommandCode": false,
       "hideCommandResult": false,
       "iPythonMetadata": null,
       "inputWidgets": {},
       "isLockedInExamMode": false,
       "latestUser": "a user",
       "latestUserId": null,
       "listResultMetadata": null,
       "metadata": {},
       "nuid": "e2e81a3a-4c56-4183-976e-41358afba66a",
       "origId": 0,
       "parentHierarchy": [],
       "pivotAggregation": null,
       "pivotColumns": null,
       "position": 3.8749847412109375,
       "resultDbfsErrorMessage": null,
       "resultDbfsStatus": "INLINED_IN_TREE",
       "results": null,
       "showCommandTitle": false,
       "startTime": 0,
       "state": "input",
       "streamStates": {},
       "subcommandOptions": {},
       "submitTime": 0,
       "subtype": "tableResultSubCmd.visualization",
       "tableResultIndex": 0,
       "tableResultSettingsMap": null,
       "useConsistentColors": false,
       "version": "CommandV1",
       "width": "auto",
       "workflows": [],
       "xColumns": null,
       "yColumns": null
      }
     },
     "output_type": "display_data"
    }
   ],
   "source": [
    "display(select_table('''\n",
    "WITH RTT_TRANSFORM AS (\n",
    "    SELECT \n",
    "        AddressOrigin,\n",
    "        CAST(REPLACE(TotalSent, ',', '') AS DOUBLE) AS Total_Sent,\n",
    "        YEAR(STR_TO_DATE(SentDate,'%Y-%m-%d %H:%i:%s')) AS SendYear,\n",
    "        MONTH(STR_TO_DATE(SentDate,'%Y-%m-%d %H:%i:%s')) AS SendMonth\n",
    "    FROM \n",
    "        db_hiring_test.raw_transactions_table\n",
    "    WHERE Status = 'Confirmed'\n",
    "),\n",
    "RTF_TRANSFORM AS (\n",
    "    SELECT \n",
    "        `range-start` AS R_START,\n",
    "        `range-end` AS R_END,\n",
    "        CAST(`fee-percentage` AS DOUBLE) AS F_PERCENTAGE\n",
    "    FROM \n",
    "        db_hiring_test.raw_transactions_fee\n",
    "),\n",
    "RTT_RTF_MATCH AS (\n",
    "    SELECT \n",
    "        rtt.*, \n",
    "        rtf.F_PERCENTAGE\n",
    "    FROM \n",
    "        RTT_TRANSFORM rtt\n",
    "    JOIN \n",
    "        RTF_TRANSFORM rtf \n",
    "    ON \n",
    "        rtt.Total_Sent BETWEEN rtf.R_START AND rtf.R_END\n",
    ")\n",
    "\n",
    "SELECT \n",
    "    AddressOrigin AS ADDRESS_ORIGIN,\n",
    "    SUM(Total_Sent) AS SUM_TOTAL_SENT,\n",
    "    SendYear SEND_YEAR,\n",
    "    SendMonth SEND_MONTH,\n",
    "    SUM(F_PERCENTAGE) AS SUM_PERCENTAGE\n",
    "\n",
    "FROM \n",
    "    RTT_RTF_MATCH\n",
    "WHERE \n",
    "    SendYear = 2021 AND SendMonth = 1\n",
    "GROUP BY \n",
    "    ADDRESS_ORIGIN\n",
    "ORDER BY \n",
    "    SUM_PERCENTAGE DESC\n",
    "LIMIT \n",
    "    1\n",
    "'''))\n"
   ]
  },
  {
   "cell_type": "code",
   "execution_count": null,
   "metadata": {
    "application/vnd.databricks.v1+cell": {
     "cellMetadata": {
      "byteLimit": 2048000,
      "rowLimit": 10000
     },
     "inputWidgets": {},
     "nuid": "5a2724be-8df8-432b-8d69-5ee96621a681",
     "showTitle": false,
     "title": ""
    }
   },
   "outputs": [
    {
     "data": {
      "text/html": [
       "<style scoped>\n",
       "  .table-result-container {\n",
       "    max-height: 300px;\n",
       "    overflow: auto;\n",
       "  }\n",
       "  table, th, td {\n",
       "    border: 1px solid black;\n",
       "    border-collapse: collapse;\n",
       "  }\n",
       "  th, td {\n",
       "    padding: 5px;\n",
       "  }\n",
       "  th {\n",
       "    text-align: left;\n",
       "  }\n",
       "</style><div class='table-result-container'><table class='table-result'><thead style='background-color: white'><tr><th>ADDRESS_ORIGIN</th><th>SUM_TOTAL_SENT</th><th>SEND_YEAR</th><th>SEND_MONTH</th><th>SUM_PERCENTAGE</th></tr></thead><tbody><tr><td>A-91</td><td>3048822.0</td><td>2021</td><td>2</td><td>34.0</td></tr></tbody></table></div>"
      ]
     },
     "metadata": {
      "application/vnd.databricks.v1+output": {
       "addedWidgets": {},
       "aggData": [],
       "aggError": "",
       "aggOverflow": false,
       "aggSchema": [],
       "aggSeriesLimitReached": false,
       "aggType": "",
       "arguments": {},
       "columnCustomDisplayInfos": {},
       "data": [
        [
         "A-91",
         3048822,
         2021,
         2,
         34
        ]
       ],
       "datasetInfos": [],
       "dbfsResultPath": null,
       "isJsonSchema": true,
       "metadata": {},
       "overflow": false,
       "plotOptions": {
        "customPlotOptions": {},
        "displayType": "table",
        "pivotAggregation": null,
        "pivotColumns": null,
        "xColumns": null,
        "yColumns": null
       },
       "removedWidgets": [],
       "schema": [
        {
         "metadata": "{}",
         "name": "ADDRESS_ORIGIN",
         "type": "\"string\""
        },
        {
         "metadata": "{}",
         "name": "SUM_TOTAL_SENT",
         "type": "\"double\""
        },
        {
         "metadata": "{}",
         "name": "SEND_YEAR",
         "type": "\"long\""
        },
        {
         "metadata": "{}",
         "name": "SEND_MONTH",
         "type": "\"long\""
        },
        {
         "metadata": "{}",
         "name": "SUM_PERCENTAGE",
         "type": "\"double\""
        }
       ],
       "type": "table"
      }
     },
     "output_type": "display_data"
    },
    {
     "data": {
      "text/plain": [
       "Databricks visualization. Run in Databricks to view."
      ]
     },
     "metadata": {
      "application/vnd.databricks.v1.subcommand+json": {
       "baseErrorDetails": null,
       "bindings": {},
       "collapsed": false,
       "command": "display(select_table('''\nWITH RTT_TRANSFORM AS (\n    SELECT \n        AddressOrigin,\n        CAST(REPLACE(TotalSent, ',', '') AS DOUBLE) AS Total_Sent,\n        YEAR(STR_TO_DATE(SentDate,'%Y-%m-%d %H:%i:%s')) AS SendYear,\n        MONTH(STR_TO_DATE(SentDate,'%Y-%m-%d %H:%i:%s')) AS SendMonth\n    FROM \n        db_hiring_test.raw_transactions_table\n    WHERE Status = 'Confirmed'\n),\nRTF_TRANSFORM AS (\n    SELECT \n        `range-start` AS R_START,\n        `range-end` AS R_END,\n        CAST(`fee-percentage` AS DOUBLE) AS F_PERCENTAGE\n    FROM \n        db_hiring_test.raw_transactions_fee\n),\nRTT_RTF_MATCH AS (\n    SELECT \n        rtt.*, \n        rtf.F_PERCENTAGE\n    FROM \n        RTT_TRANSFORM rtt\n    JOIN \n        RTF_TRANSFORM rtf \n    ON \n        rtt.Total_Sent BETWEEN rtf.R_START AND rtf.R_END\n)\n\nSELECT \n    AddressOrigin AS ADDRESS_ORIGIN,\n    SUM(Total_Sent) AS SUM_TOTAL_SENT,\n    SendYear SEND_YEAR,\n    SendMonth SEND_MONTH,\n    SUM(F_PERCENTAGE) AS SUM_PERCENTAGE\n\nFROM \n    RTT_RTF_MATCH\nWHERE \n    SendYear = 2021 AND SendMonth = 2\nGROUP BY \n    ADDRESS_ORIGIN\nORDER BY \n    SUM_PERCENTAGE DESC\nLIMIT \n    1\n'''))\n",
       "commandTitle": "Visualization 1",
       "commandType": "auto",
       "commandVersion": 0,
       "commentThread": [],
       "commentsVisible": false,
       "contentSha256Hex": null,
       "customPlotOptions": {
        "redashChart": [
         {
          "key": "type",
          "value": "TABLE"
         },
         {
          "key": "options",
          "value": {
           "columns": [
            {
             "alignContent": "center",
             "allowHTML": false,
             "allowSearch": false,
             "booleanValues": [
              "false",
              "true"
             ],
             "displayAs": "string",
             "highlightLinks": false,
             "imageHeight": "",
             "imageTitleTemplate": "{{ @ }}",
             "imageUrlTemplate": "{{ @ }}",
             "imageWidth": "",
             "linkOpenInNewTab": true,
             "linkTextTemplate": "{{ @ }}",
             "linkTitleTemplate": "{{ @ }}",
             "linkUrlTemplate": "{{ @ }}",
             "name": "ADDRESS_ORIGIN",
             "order": 100000,
             "preserveWhitespace": false,
             "title": "ADDRESS_ORIGIN",
             "type": "string",
             "useMonospaceFont": false,
             "visible": true
            },
            {
             "alignContent": "center",
             "allowHTML": false,
             "allowSearch": false,
             "booleanValues": [
              "false",
              "true"
             ],
             "displayAs": "number",
             "highlightLinks": false,
             "imageHeight": "",
             "imageTitleTemplate": "{{ @ }}",
             "imageUrlTemplate": "{{ @ }}",
             "imageWidth": "",
             "linkOpenInNewTab": true,
             "linkTextTemplate": "{{ @ }}",
             "linkTitleTemplate": "{{ @ }}",
             "linkUrlTemplate": "{{ @ }}",
             "name": "SUM_TOTAL_SENT",
             "numberFormat": "00,0.00",
             "order": 100001,
             "preserveWhitespace": false,
             "title": "SUM_TOTAL_SENT",
             "type": "float",
             "useMonospaceFont": false,
             "visible": true
            },
            {
             "alignContent": "center",
             "allowHTML": false,
             "allowSearch": false,
             "booleanValues": [
              "false",
              "true"
             ],
             "displayAs": "number",
             "highlightLinks": false,
             "imageHeight": "",
             "imageTitleTemplate": "{{ @ }}",
             "imageUrlTemplate": "{{ @ }}",
             "imageWidth": "",
             "linkOpenInNewTab": true,
             "linkTextTemplate": "{{ @ }}",
             "linkTitleTemplate": "{{ @ }}",
             "linkUrlTemplate": "{{ @ }}",
             "name": "SEND_YEAR",
             "numberFormat": "0",
             "order": 100002,
             "preserveWhitespace": false,
             "title": "SEND_YEAR",
             "type": "integer",
             "useMonospaceFont": false,
             "visible": true
            },
            {
             "alignContent": "center",
             "allowHTML": false,
             "allowSearch": false,
             "booleanValues": [
              "false",
              "true"
             ],
             "displayAs": "number",
             "highlightLinks": false,
             "imageHeight": "",
             "imageTitleTemplate": "{{ @ }}",
             "imageUrlTemplate": "{{ @ }}",
             "imageWidth": "",
             "linkOpenInNewTab": true,
             "linkTextTemplate": "{{ @ }}",
             "linkTitleTemplate": "{{ @ }}",
             "linkUrlTemplate": "{{ @ }}",
             "name": "SEND_MONTH",
             "numberFormat": "0",
             "order": 100003,
             "preserveWhitespace": false,
             "title": "SEND_MONTH",
             "type": "integer",
             "useMonospaceFont": false,
             "visible": true
            },
            {
             "alignContent": "center",
             "allowHTML": false,
             "allowSearch": false,
             "booleanValues": [
              "false",
              "true"
             ],
             "displayAs": "number",
             "highlightLinks": false,
             "imageHeight": "",
             "imageTitleTemplate": "{{ @ }}",
             "imageUrlTemplate": "{{ @ }}",
             "imageWidth": "",
             "linkOpenInNewTab": true,
             "linkTextTemplate": "{{ @ }}",
             "linkTitleTemplate": "{{ @ }}",
             "linkUrlTemplate": "{{ @ }}",
             "name": "SUM_PERCENTAGE",
             "numberFormat": "0.00",
             "order": 100004,
             "preserveWhitespace": false,
             "title": "SUM_PERCENTAGE",
             "type": "float",
             "useMonospaceFont": false,
             "visible": true
            }
           ],
           "condensed": true,
           "itemsPerPage": 25,
           "paginationSize": "default",
           "version": 2,
           "withRowNumber": false
          }
         }
        ]
       },
       "datasetPreviewNameToCmdIdMap": {},
       "diffDeletes": [],
       "diffInserts": [],
       "displayType": "redashChart",
       "error": null,
       "errorDetails": null,
       "errorSummary": null,
       "errorTraceType": null,
       "finishTime": 0,
       "globalVars": {},
       "guid": "",
       "height": "auto",
       "hideCommandCode": false,
       "hideCommandResult": false,
       "iPythonMetadata": null,
       "inputWidgets": {},
       "isLockedInExamMode": false,
       "latestUser": "a user",
       "latestUserId": null,
       "listResultMetadata": null,
       "metadata": {},
       "nuid": "62902e1e-3299-467d-9855-47b0a9724160",
       "origId": 0,
       "parentHierarchy": [],
       "pivotAggregation": null,
       "pivotColumns": null,
       "position": 3.874988555908203,
       "resultDbfsErrorMessage": null,
       "resultDbfsStatus": "INLINED_IN_TREE",
       "results": null,
       "showCommandTitle": false,
       "startTime": 0,
       "state": "input",
       "streamStates": {},
       "subcommandOptions": {},
       "submitTime": 0,
       "subtype": "tableResultSubCmd.visualization",
       "tableResultIndex": 0,
       "tableResultSettingsMap": null,
       "useConsistentColors": false,
       "version": "CommandV1",
       "width": "auto",
       "workflows": [],
       "xColumns": null,
       "yColumns": null
      }
     },
     "output_type": "display_data"
    }
   ],
   "source": [
    "display(select_table('''\n",
    "WITH RTT_TRANSFORM AS (\n",
    "    SELECT \n",
    "        AddressOrigin,\n",
    "        CAST(REPLACE(TotalSent, ',', '') AS DOUBLE) AS Total_Sent,\n",
    "        YEAR(STR_TO_DATE(SentDate,'%Y-%m-%d %H:%i:%s')) AS SendYear,\n",
    "        MONTH(STR_TO_DATE(SentDate,'%Y-%m-%d %H:%i:%s')) AS SendMonth\n",
    "    FROM \n",
    "        db_hiring_test.raw_transactions_table\n",
    "    WHERE Status = 'Confirmed'\n",
    "),\n",
    "RTF_TRANSFORM AS (\n",
    "    SELECT \n",
    "        `range-start` AS R_START,\n",
    "        `range-end` AS R_END,\n",
    "        CAST(`fee-percentage` AS DOUBLE) AS F_PERCENTAGE\n",
    "    FROM \n",
    "        db_hiring_test.raw_transactions_fee\n",
    "),\n",
    "RTT_RTF_MATCH AS (\n",
    "    SELECT \n",
    "        rtt.*, \n",
    "        rtf.F_PERCENTAGE\n",
    "    FROM \n",
    "        RTT_TRANSFORM rtt\n",
    "    JOIN \n",
    "        RTF_TRANSFORM rtf \n",
    "    ON \n",
    "        rtt.Total_Sent BETWEEN rtf.R_START AND rtf.R_END\n",
    ")\n",
    "\n",
    "SELECT \n",
    "    AddressOrigin AS ADDRESS_ORIGIN,\n",
    "    SUM(Total_Sent) AS SUM_TOTAL_SENT,\n",
    "    SendYear SEND_YEAR,\n",
    "    SendMonth SEND_MONTH,\n",
    "    SUM(F_PERCENTAGE) AS SUM_PERCENTAGE\n",
    "\n",
    "FROM \n",
    "    RTT_RTF_MATCH\n",
    "WHERE \n",
    "    SendYear = 2021 AND SendMonth = 2\n",
    "GROUP BY \n",
    "    ADDRESS_ORIGIN\n",
    "ORDER BY \n",
    "    SUM_PERCENTAGE DESC\n",
    "LIMIT \n",
    "    1\n",
    "'''))\n"
   ]
  },
  {
   "cell_type": "markdown",
   "metadata": {
    "application/vnd.databricks.v1+cell": {
     "cellMetadata": {},
     "inputWidgets": {},
     "nuid": "b8db9458-d43f-4997-9707-b0df111f771e",
     "showTitle": false,
     "title": ""
    }
   },
   "source": [
    "### 3. ID da transação com a maior taxa paga"
   ]
  },
  {
   "cell_type": "code",
   "execution_count": null,
   "metadata": {
    "application/vnd.databricks.v1+cell": {
     "cellMetadata": {
      "byteLimit": 2048000,
      "rowLimit": 10000
     },
     "inputWidgets": {},
     "nuid": "7493514f-d02f-4a05-90f7-8dc7fa24d7d9",
     "showTitle": false,
     "title": ""
    }
   },
   "outputs": [
    {
     "data": {
      "text/html": [
       "<style scoped>\n",
       "  .table-result-container {\n",
       "    max-height: 300px;\n",
       "    overflow: auto;\n",
       "  }\n",
       "  table, th, td {\n",
       "    border: 1px solid black;\n",
       "    border-collapse: collapse;\n",
       "  }\n",
       "  th, td {\n",
       "    padding: 5px;\n",
       "  }\n",
       "  th {\n",
       "    text-align: left;\n",
       "  }\n",
       "</style><div class='table-result-container'><table class='table-result'><thead style='background-color: white'><tr><th>ID_TRANSACTION</th><th>TOTAL_SENT</th><th>PERCENTAGE</th></tr></thead><tbody><tr><td>ID1092</td><td>57493.0</td><td>10.0</td></tr></tbody></table></div>"
      ]
     },
     "metadata": {
      "application/vnd.databricks.v1+output": {
       "addedWidgets": {},
       "aggData": [],
       "aggError": "",
       "aggOverflow": false,
       "aggSchema": [],
       "aggSeriesLimitReached": false,
       "aggType": "",
       "arguments": {},
       "columnCustomDisplayInfos": {},
       "data": [
        [
         "ID1092",
         57493,
         10
        ]
       ],
       "datasetInfos": [],
       "dbfsResultPath": null,
       "isJsonSchema": true,
       "metadata": {},
       "overflow": false,
       "plotOptions": {
        "customPlotOptions": {},
        "displayType": "table",
        "pivotAggregation": null,
        "pivotColumns": null,
        "xColumns": null,
        "yColumns": null
       },
       "removedWidgets": [],
       "schema": [
        {
         "metadata": "{}",
         "name": "ID_TRANSACTION",
         "type": "\"string\""
        },
        {
         "metadata": "{}",
         "name": "TOTAL_SENT",
         "type": "\"double\""
        },
        {
         "metadata": "{}",
         "name": "PERCENTAGE",
         "type": "\"double\""
        }
       ],
       "type": "table"
      }
     },
     "output_type": "display_data"
    },
    {
     "data": {
      "text/plain": [
       "Databricks visualization. Run in Databricks to view."
      ]
     },
     "metadata": {
      "application/vnd.databricks.v1.subcommand+json": {
       "baseErrorDetails": null,
       "bindings": {},
       "collapsed": false,
       "command": "display(select_table('''\nWITH RTT_TRANSFORM AS (\n    SELECT \n        IdTransaction,\n        CAST(REPLACE(TotalSent, ',', '') AS DOUBLE) AS Total_Sent\n    FROM \n        db_hiring_test.raw_transactions_table\n    WHERE Status = 'Confirmed'\n),\nRTF_TRANSFORM AS (\n    SELECT \n        `range-start` AS R_START,\n        `range-end` AS R_END,\n        CAST(`fee-percentage` AS DOUBLE) AS F_PERCENTAGE\n    FROM \n        db_hiring_test.raw_transactions_fee\n),\nRTT_RTF_MATCH AS (\n    SELECT \n        rtt.*, \n        rtf.F_PERCENTAGE\n    FROM \n        RTT_TRANSFORM rtt\n    JOIN \n        RTF_TRANSFORM rtf \n    ON \n        rtt.Total_Sent BETWEEN rtf.R_START AND rtf.R_END\n)\n\nSELECT \n    IdTransaction AS ID_TRANSACTION,\n    Total_Sent AS TOTAL_SENT,\n    F_PERCENTAGE AS PERCENTAGE\n\nFROM \n    RTT_RTF_MATCH\nORDER BY PERCENTAGE DESC\nLIMIT 1\n'''))\n",
       "commandTitle": "Visualization 1",
       "commandType": "auto",
       "commandVersion": 0,
       "commentThread": [],
       "commentsVisible": false,
       "contentSha256Hex": null,
       "customPlotOptions": {
        "redashChart": [
         {
          "key": "type",
          "value": "TABLE"
         },
         {
          "key": "options",
          "value": {
           "columns": [
            {
             "alignContent": "center",
             "allowHTML": false,
             "allowSearch": false,
             "booleanValues": [
              "false",
              "true"
             ],
             "displayAs": "string",
             "highlightLinks": false,
             "imageHeight": "",
             "imageTitleTemplate": "{{ @ }}",
             "imageUrlTemplate": "{{ @ }}",
             "imageWidth": "",
             "linkOpenInNewTab": true,
             "linkTextTemplate": "{{ @ }}",
             "linkTitleTemplate": "{{ @ }}",
             "linkUrlTemplate": "{{ @ }}",
             "name": "ID_TRANSACTION",
             "order": 100000,
             "preserveWhitespace": false,
             "title": "ID_TRANSACTION",
             "type": "string",
             "useMonospaceFont": false,
             "visible": true
            },
            {
             "alignContent": "center",
             "allowHTML": false,
             "allowSearch": false,
             "booleanValues": [
              "false",
              "true"
             ],
             "displayAs": "number",
             "highlightLinks": false,
             "imageHeight": "",
             "imageTitleTemplate": "{{ @ }}",
             "imageUrlTemplate": "{{ @ }}",
             "imageWidth": "",
             "linkOpenInNewTab": true,
             "linkTextTemplate": "{{ @ }}",
             "linkTitleTemplate": "{{ @ }}",
             "linkUrlTemplate": "{{ @ }}",
             "name": "TOTAL_SENT",
             "numberFormat": "00,0.00",
             "order": 100001,
             "preserveWhitespace": false,
             "title": "TOTAL_SENT",
             "type": "float",
             "useMonospaceFont": false,
             "visible": true
            },
            {
             "alignContent": "center",
             "allowHTML": false,
             "allowSearch": false,
             "booleanValues": [
              "false",
              "true"
             ],
             "displayAs": "number",
             "highlightLinks": false,
             "imageHeight": "",
             "imageTitleTemplate": "{{ @ }}",
             "imageUrlTemplate": "{{ @ }}",
             "imageWidth": "",
             "linkOpenInNewTab": true,
             "linkTextTemplate": "{{ @ }}",
             "linkTitleTemplate": "{{ @ }}",
             "linkUrlTemplate": "{{ @ }}",
             "name": "PERCENTAGE",
             "numberFormat": "0.00",
             "order": 100002,
             "preserveWhitespace": false,
             "title": "PERCENTAGE",
             "type": "float",
             "useMonospaceFont": false,
             "visible": true
            }
           ],
           "condensed": true,
           "itemsPerPage": 25,
           "paginationSize": "default",
           "version": 2,
           "withRowNumber": false
          }
         }
        ]
       },
       "datasetPreviewNameToCmdIdMap": {},
       "diffDeletes": [],
       "diffInserts": [],
       "displayType": "redashChart",
       "error": null,
       "errorDetails": null,
       "errorSummary": null,
       "errorTraceType": null,
       "finishTime": 0,
       "globalVars": {},
       "guid": "",
       "height": "auto",
       "hideCommandCode": false,
       "hideCommandResult": false,
       "iPythonMetadata": null,
       "inputWidgets": {},
       "isLockedInExamMode": false,
       "latestUser": "a user",
       "latestUserId": null,
       "listResultMetadata": null,
       "metadata": {},
       "nuid": "f82562a4-4aab-4c07-9452-fe19dbb15cef",
       "origId": 0,
       "parentHierarchy": [],
       "pivotAggregation": null,
       "pivotColumns": null,
       "position": 3.8749961853027344,
       "resultDbfsErrorMessage": null,
       "resultDbfsStatus": "INLINED_IN_TREE",
       "results": null,
       "showCommandTitle": false,
       "startTime": 0,
       "state": "input",
       "streamStates": {},
       "subcommandOptions": {},
       "submitTime": 0,
       "subtype": "tableResultSubCmd.visualization",
       "tableResultIndex": 0,
       "tableResultSettingsMap": null,
       "useConsistentColors": false,
       "version": "CommandV1",
       "width": "auto",
       "workflows": [],
       "xColumns": null,
       "yColumns": null
      }
     },
     "output_type": "display_data"
    }
   ],
   "source": [
    "display(select_table('''\n",
    "WITH RTT_TRANSFORM AS (\n",
    "    SELECT \n",
    "        IdTransaction,\n",
    "        CAST(REPLACE(TotalSent, ',', '') AS DOUBLE) AS Total_Sent\n",
    "    FROM \n",
    "        db_hiring_test.raw_transactions_table\n",
    "    WHERE Status = 'Confirmed'\n",
    "),\n",
    "RTF_TRANSFORM AS (\n",
    "    SELECT \n",
    "        `range-start` AS R_START,\n",
    "        `range-end` AS R_END,\n",
    "        CAST(`fee-percentage` AS DOUBLE) AS F_PERCENTAGE\n",
    "    FROM \n",
    "        db_hiring_test.raw_transactions_fee\n",
    "),\n",
    "RTT_RTF_MATCH AS (\n",
    "    SELECT \n",
    "        rtt.*, \n",
    "        rtf.F_PERCENTAGE\n",
    "    FROM \n",
    "        RTT_TRANSFORM rtt\n",
    "    JOIN \n",
    "        RTF_TRANSFORM rtf \n",
    "    ON \n",
    "        rtt.Total_Sent BETWEEN rtf.R_START AND rtf.R_END\n",
    ")\n",
    "\n",
    "SELECT \n",
    "    IdTransaction AS ID_TRANSACTION,\n",
    "    Total_Sent AS TOTAL_SENT,\n",
    "    F_PERCENTAGE AS PERCENTAGE\n",
    "\n",
    "FROM \n",
    "    RTT_RTF_MATCH\n",
    "ORDER BY \n",
    "    PERCENTAGE DESC\n",
    "LIMIT \n",
    "    1\n",
    "'''))\n"
   ]
  },
  {
   "cell_type": "markdown",
   "metadata": {
    "application/vnd.databricks.v1+cell": {
     "cellMetadata": {},
     "inputWidgets": {},
     "nuid": "bc522572-2405-4d57-b5e6-93a89bcabb7e",
     "showTitle": false,
     "title": ""
    }
   },
   "source": [
    "### 4. Média de taxa paga considerando todas as transações realizadas"
   ]
  },
  {
   "cell_type": "code",
   "execution_count": null,
   "metadata": {
    "application/vnd.databricks.v1+cell": {
     "cellMetadata": {
      "byteLimit": 2048000,
      "rowLimit": 10000
     },
     "inputWidgets": {},
     "nuid": "9b748e31-a043-4a7d-979e-eecce5fa5d5b",
     "showTitle": false,
     "title": ""
    }
   },
   "outputs": [
    {
     "data": {
      "text/html": [
       "<style scoped>\n",
       "  .table-result-container {\n",
       "    max-height: 300px;\n",
       "    overflow: auto;\n",
       "  }\n",
       "  table, th, td {\n",
       "    border: 1px solid black;\n",
       "    border-collapse: collapse;\n",
       "  }\n",
       "  th, td {\n",
       "    padding: 5px;\n",
       "  }\n",
       "  th {\n",
       "    text-align: left;\n",
       "  }\n",
       "</style><div class='table-result-container'><table class='table-result'><thead style='background-color: white'><tr><th>MEAN_PERCENTAGE</th></tr></thead><tbody><tr><td>5.87</td></tr></tbody></table></div>"
      ]
     },
     "metadata": {
      "application/vnd.databricks.v1+output": {
       "addedWidgets": {},
       "aggData": [],
       "aggError": "",
       "aggOverflow": false,
       "aggSchema": [],
       "aggSeriesLimitReached": false,
       "aggType": "",
       "arguments": {},
       "columnCustomDisplayInfos": {},
       "data": [
        [
         5.87
        ]
       ],
       "datasetInfos": [],
       "dbfsResultPath": null,
       "isJsonSchema": true,
       "metadata": {},
       "overflow": false,
       "plotOptions": {
        "customPlotOptions": {},
        "displayType": "table",
        "pivotAggregation": null,
        "pivotColumns": null,
        "xColumns": null,
        "yColumns": null
       },
       "removedWidgets": [],
       "schema": [
        {
         "metadata": "{}",
         "name": "MEAN_PERCENTAGE",
         "type": "\"double\""
        }
       ],
       "type": "table"
      }
     },
     "output_type": "display_data"
    },
    {
     "data": {
      "text/plain": [
       "Databricks visualization. Run in Databricks to view."
      ]
     },
     "metadata": {
      "application/vnd.databricks.v1.subcommand+json": {
       "baseErrorDetails": null,
       "bindings": {},
       "collapsed": false,
       "command": "display(select_table('''\nWITH RTT_TRANSFORM AS (\n    SELECT \n        IdTransaction,\n        CAST(REPLACE(TotalSent, ',', '') AS DOUBLE) AS Total_Sent\n    FROM \n        db_hiring_test.raw_transactions_table\n    WHERE Status = 'Confirmed'\n),\nRTF_TRANSFORM AS (\n    SELECT \n        `range-start` AS R_START,\n        `range-end` AS R_END,\n        CAST(`fee-percentage` AS DOUBLE) AS F_PERCENTAGE\n    FROM \n        db_hiring_test.raw_transactions_fee\n),\nRTT_RTF_MATCH AS (\n    SELECT \n        rtt.*, \n        rtf.F_PERCENTAGE\n    FROM \n        RTT_TRANSFORM rtt\n    JOIN \n        RTF_TRANSFORM rtf \n    ON \n        rtt.Total_Sent BETWEEN rtf.R_START AND rtf.R_END\n)\n\nSELECT \n    ROUND(AVG(F_PERCENTAGE),2) AS MEAN_PERCENTAGE\nFROM \n    RTT_RTF_MATCH\n'''))\n",
       "commandTitle": "Visualization 1",
       "commandType": "auto",
       "commandVersion": 0,
       "commentThread": [],
       "commentsVisible": false,
       "contentSha256Hex": null,
       "customPlotOptions": {
        "redashChart": [
         {
          "key": "type",
          "value": "COUNTER"
         },
         {
          "key": "options",
          "value": {
           "countRow": false,
           "counterColName": "MEAN_PERCENTAGE",
           "counterLabel": "Taxa Média Paga de Transações",
           "formatTargetValue": false,
           "rowNumber": 1,
           "stringDecChar": ".",
           "stringDecimal": 2,
           "stringThouSep": ",",
           "targetColName": "",
           "targetRowNumber": 1,
           "tooltipFormat": "0,0.000"
          }
         }
        ]
       },
       "datasetPreviewNameToCmdIdMap": {},
       "diffDeletes": [],
       "diffInserts": [],
       "displayType": "redashChart",
       "error": null,
       "errorDetails": null,
       "errorSummary": null,
       "errorTraceType": null,
       "finishTime": 0,
       "globalVars": {},
       "guid": "",
       "height": "auto",
       "hideCommandCode": false,
       "hideCommandResult": false,
       "iPythonMetadata": null,
       "inputWidgets": {},
       "isLockedInExamMode": false,
       "latestUser": "a user",
       "latestUserId": null,
       "listResultMetadata": null,
       "metadata": {},
       "nuid": "25a4a7c9-c9b4-4418-bc50-d55306e2f90e",
       "origId": 0,
       "parentHierarchy": [],
       "pivotAggregation": null,
       "pivotColumns": null,
       "position": 3.8749988079071045,
       "resultDbfsErrorMessage": null,
       "resultDbfsStatus": "INLINED_IN_TREE",
       "results": null,
       "showCommandTitle": false,
       "startTime": 0,
       "state": "input",
       "streamStates": {},
       "subcommandOptions": {},
       "submitTime": 0,
       "subtype": "tableResultSubCmd.visualization",
       "tableResultIndex": 0,
       "tableResultSettingsMap": null,
       "useConsistentColors": false,
       "version": "CommandV1",
       "width": "auto",
       "workflows": [],
       "xColumns": null,
       "yColumns": null
      }
     },
     "output_type": "display_data"
    }
   ],
   "source": [
    "display(select_table('''\n",
    "WITH RTT_TRANSFORM AS (\n",
    "    SELECT \n",
    "        IdTransaction,\n",
    "        CAST(REPLACE(TotalSent, ',', '') AS DOUBLE) AS Total_Sent\n",
    "    FROM \n",
    "        db_hiring_test.raw_transactions_table\n",
    "    WHERE Status = 'Confirmed'\n",
    "),\n",
    "RTF_TRANSFORM AS (\n",
    "    SELECT \n",
    "        `range-start` AS R_START,\n",
    "        `range-end` AS R_END,\n",
    "        CAST(`fee-percentage` AS DOUBLE) AS F_PERCENTAGE\n",
    "    FROM \n",
    "        db_hiring_test.raw_transactions_fee\n",
    "),\n",
    "RTT_RTF_MATCH AS (\n",
    "    SELECT \n",
    "        rtt.*, \n",
    "        rtf.F_PERCENTAGE\n",
    "    FROM \n",
    "        RTT_TRANSFORM rtt\n",
    "    JOIN \n",
    "        RTF_TRANSFORM rtf \n",
    "    ON \n",
    "        rtt.Total_Sent BETWEEN rtf.R_START AND rtf.R_END\n",
    ")\n",
    "\n",
    "SELECT \n",
    "    ROUND(AVG(F_PERCENTAGE),2) AS MEAN_PERCENTAGE\n",
    "FROM \n",
    "    RTT_RTF_MATCH\n",
    "'''))\n"
   ]
  },
  {
   "cell_type": "markdown",
   "metadata": {
    "application/vnd.databricks.v1+cell": {
     "cellMetadata": {},
     "inputWidgets": {},
     "nuid": "557ced72-cf8a-42b9-b242-9956a50f040a",
     "showTitle": false,
     "title": ""
    }
   },
   "source": []
  }
 ],
 "metadata": {
  "application/vnd.databricks.v1+notebook": {
   "dashboards": [],
   "environmentMetadata": null,
   "language": "python",
   "notebookMetadata": {
    "pythonIndentUnit": 4
   },
   "notebookName": "case_dhauz",
   "widgets": {}
  },
  "language_info": {
   "name": "python"
  }
 },
 "nbformat": 4,
 "nbformat_minor": 0
}
